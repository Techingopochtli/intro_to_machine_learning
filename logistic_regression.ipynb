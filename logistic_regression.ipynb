{
 "cells": [
  {
   "cell_type": "markdown",
   "id": "46501364",
   "metadata": {
    "_cell_guid": "b1076dfc-b9ad-4769-8c92-a6c4dae69d19",
    "_uuid": "8f2839f25d086af736a60e9eeb907d3b93b6e0e5",
    "papermill": {
     "duration": 0.016912,
     "end_time": "2023-03-24T03:03:29.508374",
     "exception": false,
     "start_time": "2023-03-24T03:03:29.491462",
     "status": "completed"
    },
    "tags": []
   },
   "source": [
    "# Logistic Regression - Andres Alvarez\n"
   ]
  },
  {
   "cell_type": "markdown",
   "id": "c368cfcf",
   "metadata": {
    "_cell_guid": "b1076dfc-b9ad-4769-8c92-a6c4dae69d19",
    "_uuid": "8f2839f25d086af736a60e9eeb907d3b93b6e0e5",
    "papermill": {
     "duration": 0.01563,
     "end_time": "2023-03-24T03:03:29.539613",
     "exception": false,
     "start_time": "2023-03-24T03:03:29.523983",
     "status": "completed"
    },
    "tags": []
   },
   "source": [
    "The binary logistic regression classifier consider random variables $\\mathbf X$, $T \\in\\{0,1\\}$  where\n",
    " \\begin{align*}\n",
    " Y &= \\mathsf{\\sigma}(\\mathbf w^t\\mathbf X) = \\sigma( w_0 + \\sum_{k=1}^{K-1} w_kX_k),\\\\\n",
    " p(t\\mid \\mathbf w) &= \\sim y^{t}(1-y)^{(1-t)},\\\\\n",
    " \\sigma(z) &= \\frac{1}{1+e^{-z}},\\\\ \n",
    " z &= w_0 + \\sum_{k=1}^{K-1} w_kX_k,\n",
    " \\end{align*}\n",
    "$ \\mathbf w^t = [w_0, w_1,\\dots,w_{K-1}]$, $\\mathbf X = [1, X_1,\\dots,X_{K-1}]^t$, and he conditional class probabilities are  $P(C_1\\mid X, \\mathbf w) = Y$, and $P(C_2\\mid X,\\mathbf w) = 1 - P(C_1\\mid X, \\mathbf w) $. \n",
    " \n",
    "The classsification rule for input $\\mathbf X= \\mathbf x$ is defined as follows:\n",
    "\n",
    "\\begin{align*}\n",
    "f(\\mathbf x) = \\left\\{\n",
    "\\begin{array}{ll}\n",
    "        1 & \\mbox{if } \\sigma(\\mathbf w^t\\mathbf x) > 0.5 \\\\\n",
    "        0& \\mbox{otherwise.}\n",
    " \\end{array}\n",
    " \\right.\n",
    "\\end{align*}\n",
    "\n",
    "Given a data set $\\mathcal D = \\{ \\{\\mathbf x_1,t_2,\\}, \\{\\mathbf x_1,t_2\\}, \\dots, \\{\\mathbf x_N,t_N\\}\\}$ we need to estimate the  $\\mathbf w$  classifier parameters. The  likelihood of the data is given by\n",
    "\n",
    "\\begin{align*}\n",
    "\\mathcal L(\\mathbf  w \\mid \\mathcal D) &= \\prod_{n=1}^N p(t_n\\mid \\mathbf w) = \\prod_{n=1}^N  \\left[ y_n^{t_n} (1-y_n)^{(1-t_n)}\\right].\n",
    "\\end{align*}\n",
    "\n",
    "The cross entropy error function is defined as\n",
    "\n",
    "\\begin{align*}\n",
    "E[ \\mathbf w ] &= - \\log L(\\mathbf  w \\mid \\mathcal D) = -\\sum_{n=1}^N \\log  p(t_n\\mid \\mathbf w) = -\\sum_{n=1}^N \\log \\left[ y_n^{t_n} (1-y_n)^{(1-t_n)}\\right] = -\\sum_{n=1}^N \\left[ t_n \\log y_n + {(1-t_n) \\log (1-y_n)}\\right]\n",
    "\\end{align*}\n"
   ]
  },
  {
   "cell_type": "markdown",
   "id": "98c9f029",
   "metadata": {
    "papermill": {
     "duration": 0.014484,
     "end_time": "2023-03-24T03:03:29.569495",
     "exception": false,
     "start_time": "2023-03-24T03:03:29.555011",
     "status": "completed"
    },
    "tags": []
   },
   "source": [
    "> ## Import the libraries and read the dataset"
   ]
  },
  {
   "cell_type": "code",
   "execution_count": 1,
   "id": "dd398459",
   "metadata": {
    "execution": {
     "iopub.execute_input": "2023-03-24T03:03:29.604105Z",
     "iopub.status.busy": "2023-03-24T03:03:29.603240Z",
     "iopub.status.idle": "2023-03-24T03:03:30.861958Z",
     "shell.execute_reply": "2023-03-24T03:03:30.860390Z"
    },
    "papermill": {
     "duration": 1.279124,
     "end_time": "2023-03-24T03:03:30.865088",
     "exception": false,
     "start_time": "2023-03-24T03:03:29.585964",
     "status": "completed"
    },
    "tags": []
   },
   "outputs": [],
   "source": [
    "import pandas as pd\n",
    "import numpy as np\n",
    "import matplotlib.pyplot as plt\n",
    "import seaborn as sns\n",
    "\n",
    "data = pd.read_csv(\"/kaggle/input/logistic-regression/data_set_logistic_regression_m.csv\")"
   ]
  },
  {
   "cell_type": "markdown",
   "id": "61d637ba",
   "metadata": {
    "papermill": {
     "duration": 0.01481,
     "end_time": "2023-03-24T03:03:30.895930",
     "exception": false,
     "start_time": "2023-03-24T03:03:30.881120",
     "status": "completed"
    },
    "tags": []
   },
   "source": [
    "> ## Print the values"
   ]
  },
  {
   "cell_type": "code",
   "execution_count": 2,
   "id": "319e6b3b",
   "metadata": {
    "execution": {
     "iopub.execute_input": "2023-03-24T03:03:30.929744Z",
     "iopub.status.busy": "2023-03-24T03:03:30.929205Z",
     "iopub.status.idle": "2023-03-24T03:03:30.968142Z",
     "shell.execute_reply": "2023-03-24T03:03:30.966783Z"
    },
    "papermill": {
     "duration": 0.059104,
     "end_time": "2023-03-24T03:03:30.970723",
     "exception": false,
     "start_time": "2023-03-24T03:03:30.911619",
     "status": "completed"
    },
    "tags": []
   },
   "outputs": [
    {
     "data": {
      "text/html": [
       "<div>\n",
       "<style scoped>\n",
       "    .dataframe tbody tr th:only-of-type {\n",
       "        vertical-align: middle;\n",
       "    }\n",
       "\n",
       "    .dataframe tbody tr th {\n",
       "        vertical-align: top;\n",
       "    }\n",
       "\n",
       "    .dataframe thead th {\n",
       "        text-align: right;\n",
       "    }\n",
       "</style>\n",
       "<table border=\"1\" class=\"dataframe\">\n",
       "  <thead>\n",
       "    <tr style=\"text-align: right;\">\n",
       "      <th></th>\n",
       "      <th>Unnamed: 0</th>\n",
       "      <th>X1</th>\n",
       "      <th>X2</th>\n",
       "      <th>X3</th>\n",
       "      <th>X4</th>\n",
       "      <th>X5</th>\n",
       "      <th>X6</th>\n",
       "      <th>X7</th>\n",
       "      <th>X8</th>\n",
       "      <th>X9</th>\n",
       "      <th>X10</th>\n",
       "      <th>X11</th>\n",
       "      <th>X12</th>\n",
       "      <th>Y</th>\n",
       "    </tr>\n",
       "  </thead>\n",
       "  <tbody>\n",
       "    <tr>\n",
       "      <th>0</th>\n",
       "      <td>0</td>\n",
       "      <td>-0.321535</td>\n",
       "      <td>4.815628</td>\n",
       "      <td>12.737615</td>\n",
       "      <td>12.485036</td>\n",
       "      <td>33.306948</td>\n",
       "      <td>1.106542</td>\n",
       "      <td>5.624196</td>\n",
       "      <td>0.131773</td>\n",
       "      <td>1</td>\n",
       "      <td>9.0</td>\n",
       "      <td>31</td>\n",
       "      <td>75.0</td>\n",
       "      <td>1</td>\n",
       "    </tr>\n",
       "    <tr>\n",
       "      <th>1</th>\n",
       "      <td>1</td>\n",
       "      <td>0.411607</td>\n",
       "      <td>5.562759</td>\n",
       "      <td>7.648079</td>\n",
       "      <td>4.920547</td>\n",
       "      <td>35.414063</td>\n",
       "      <td>2.296669</td>\n",
       "      <td>4.483413</td>\n",
       "      <td>0.825143</td>\n",
       "      <td>1</td>\n",
       "      <td>9.0</td>\n",
       "      <td>29</td>\n",
       "      <td>76.0</td>\n",
       "      <td>1</td>\n",
       "    </tr>\n",
       "    <tr>\n",
       "      <th>2</th>\n",
       "      <td>2</td>\n",
       "      <td>0.700029</td>\n",
       "      <td>5.819643</td>\n",
       "      <td>10.586706</td>\n",
       "      <td>8.762863</td>\n",
       "      <td>32.404584</td>\n",
       "      <td>0.811097</td>\n",
       "      <td>5.944864</td>\n",
       "      <td>0.681252</td>\n",
       "      <td>1</td>\n",
       "      <td>10.0</td>\n",
       "      <td>24</td>\n",
       "      <td>88.0</td>\n",
       "      <td>1</td>\n",
       "    </tr>\n",
       "    <tr>\n",
       "      <th>3</th>\n",
       "      <td>3</td>\n",
       "      <td>0.226974</td>\n",
       "      <td>5.285195</td>\n",
       "      <td>10.258356</td>\n",
       "      <td>10.778447</td>\n",
       "      <td>45.987042</td>\n",
       "      <td>0.110584</td>\n",
       "      <td>5.708611</td>\n",
       "      <td>0.857634</td>\n",
       "      <td>1</td>\n",
       "      <td>9.0</td>\n",
       "      <td>29</td>\n",
       "      <td>78.0</td>\n",
       "      <td>1</td>\n",
       "    </tr>\n",
       "    <tr>\n",
       "      <th>4</th>\n",
       "      <td>4</td>\n",
       "      <td>0.147070</td>\n",
       "      <td>5.918314</td>\n",
       "      <td>13.985822</td>\n",
       "      <td>0.827570</td>\n",
       "      <td>21.949347</td>\n",
       "      <td>0.050553</td>\n",
       "      <td>7.426944</td>\n",
       "      <td>0.645198</td>\n",
       "      <td>1</td>\n",
       "      <td>10.0</td>\n",
       "      <td>31</td>\n",
       "      <td>85.0</td>\n",
       "      <td>1</td>\n",
       "    </tr>\n",
       "  </tbody>\n",
       "</table>\n",
       "</div>"
      ],
      "text/plain": [
       "   Unnamed: 0        X1        X2         X3         X4         X5        X6  \\\n",
       "0           0 -0.321535  4.815628  12.737615  12.485036  33.306948  1.106542   \n",
       "1           1  0.411607  5.562759   7.648079   4.920547  35.414063  2.296669   \n",
       "2           2  0.700029  5.819643  10.586706   8.762863  32.404584  0.811097   \n",
       "3           3  0.226974  5.285195  10.258356  10.778447  45.987042  0.110584   \n",
       "4           4  0.147070  5.918314  13.985822   0.827570  21.949347  0.050553   \n",
       "\n",
       "         X7        X8  X9   X10  X11   X12  Y  \n",
       "0  5.624196  0.131773   1   9.0   31  75.0  1  \n",
       "1  4.483413  0.825143   1   9.0   29  76.0  1  \n",
       "2  5.944864  0.681252   1  10.0   24  88.0  1  \n",
       "3  5.708611  0.857634   1   9.0   29  78.0  1  \n",
       "4  7.426944  0.645198   1  10.0   31  85.0  1  "
      ]
     },
     "execution_count": 2,
     "metadata": {},
     "output_type": "execute_result"
    }
   ],
   "source": [
    "data.head()"
   ]
  },
  {
   "cell_type": "markdown",
   "id": "ed08b3d8",
   "metadata": {
    "papermill": {
     "duration": 0.014639,
     "end_time": "2023-03-24T03:03:31.000577",
     "exception": false,
     "start_time": "2023-03-24T03:03:30.985938",
     "status": "completed"
    },
    "tags": []
   },
   "source": [
    "> ## Exploratory data analysis"
   ]
  },
  {
   "cell_type": "code",
   "execution_count": 3,
   "id": "e29bc912",
   "metadata": {
    "execution": {
     "iopub.execute_input": "2023-03-24T03:03:31.033368Z",
     "iopub.status.busy": "2023-03-24T03:03:31.032669Z",
     "iopub.status.idle": "2023-03-24T03:03:31.039832Z",
     "shell.execute_reply": "2023-03-24T03:03:31.038662Z"
    },
    "papermill": {
     "duration": 0.026446,
     "end_time": "2023-03-24T03:03:31.042447",
     "exception": false,
     "start_time": "2023-03-24T03:03:31.016001",
     "status": "completed"
    },
    "tags": []
   },
   "outputs": [
    {
     "data": {
      "text/plain": [
       "(998, 14)"
      ]
     },
     "execution_count": 3,
     "metadata": {},
     "output_type": "execute_result"
    }
   ],
   "source": [
    "data.shape # number of variables and records"
   ]
  },
  {
   "cell_type": "code",
   "execution_count": 4,
   "id": "cf873735",
   "metadata": {
    "execution": {
     "iopub.execute_input": "2023-03-24T03:03:31.075275Z",
     "iopub.status.busy": "2023-03-24T03:03:31.074502Z",
     "iopub.status.idle": "2023-03-24T03:03:31.082022Z",
     "shell.execute_reply": "2023-03-24T03:03:31.081010Z"
    },
    "papermill": {
     "duration": 0.02682,
     "end_time": "2023-03-24T03:03:31.084478",
     "exception": false,
     "start_time": "2023-03-24T03:03:31.057658",
     "status": "completed"
    },
    "tags": []
   },
   "outputs": [
    {
     "data": {
      "text/plain": [
       "Index(['Unnamed: 0', 'X1', 'X2', 'X3', 'X4', 'X5', 'X6', 'X7', 'X8', 'X9',\n",
       "       'X10', 'X11', 'X12', 'Y'],\n",
       "      dtype='object')"
      ]
     },
     "execution_count": 4,
     "metadata": {},
     "output_type": "execute_result"
    }
   ],
   "source": [
    "data.columns"
   ]
  },
  {
   "cell_type": "code",
   "execution_count": 5,
   "id": "9f84c409",
   "metadata": {
    "execution": {
     "iopub.execute_input": "2023-03-24T03:03:31.117217Z",
     "iopub.status.busy": "2023-03-24T03:03:31.116507Z",
     "iopub.status.idle": "2023-03-24T03:03:31.143042Z",
     "shell.execute_reply": "2023-03-24T03:03:31.141501Z"
    },
    "papermill": {
     "duration": 0.047592,
     "end_time": "2023-03-24T03:03:31.147333",
     "exception": false,
     "start_time": "2023-03-24T03:03:31.099741",
     "status": "completed"
    },
    "tags": []
   },
   "outputs": [
    {
     "name": "stdout",
     "output_type": "stream",
     "text": [
      "<class 'pandas.core.frame.DataFrame'>\n",
      "RangeIndex: 998 entries, 0 to 997\n",
      "Data columns (total 14 columns):\n",
      " #   Column      Non-Null Count  Dtype  \n",
      "---  ------      --------------  -----  \n",
      " 0   Unnamed: 0  998 non-null    int64  \n",
      " 1   X1          997 non-null    float64\n",
      " 2   X2          997 non-null    float64\n",
      " 3   X3          996 non-null    float64\n",
      " 4   X4          997 non-null    float64\n",
      " 5   X5          997 non-null    float64\n",
      " 6   X6          996 non-null    float64\n",
      " 7   X7          998 non-null    float64\n",
      " 8   X8          998 non-null    float64\n",
      " 9   X9          998 non-null    int64  \n",
      " 10  X10         997 non-null    float64\n",
      " 11  X11         998 non-null    int64  \n",
      " 12  X12         996 non-null    float64\n",
      " 13  Y           998 non-null    int64  \n",
      "dtypes: float64(10), int64(4)\n",
      "memory usage: 109.3 KB\n"
     ]
    }
   ],
   "source": [
    "data.info()"
   ]
  },
  {
   "cell_type": "code",
   "execution_count": 6,
   "id": "f968de53",
   "metadata": {
    "execution": {
     "iopub.execute_input": "2023-03-24T03:03:31.182885Z",
     "iopub.status.busy": "2023-03-24T03:03:31.182222Z",
     "iopub.status.idle": "2023-03-24T03:03:31.191729Z",
     "shell.execute_reply": "2023-03-24T03:03:31.190402Z"
    },
    "papermill": {
     "duration": 0.029884,
     "end_time": "2023-03-24T03:03:31.194143",
     "exception": false,
     "start_time": "2023-03-24T03:03:31.164259",
     "status": "completed"
    },
    "tags": []
   },
   "outputs": [
    {
     "data": {
      "text/plain": [
       "Unnamed: 0    False\n",
       "X1             True\n",
       "X2             True\n",
       "X3             True\n",
       "X4             True\n",
       "X5             True\n",
       "X6             True\n",
       "X7            False\n",
       "X8            False\n",
       "X9            False\n",
       "X10            True\n",
       "X11           False\n",
       "X12            True\n",
       "Y             False\n",
       "dtype: bool"
      ]
     },
     "execution_count": 6,
     "metadata": {},
     "output_type": "execute_result"
    }
   ],
   "source": [
    "nullvalue_columns=data.isnull().any()\n",
    "nullvalue_columns"
   ]
  },
  {
   "cell_type": "code",
   "execution_count": 7,
   "id": "ba8c6d9e",
   "metadata": {
    "execution": {
     "iopub.execute_input": "2023-03-24T03:03:31.227577Z",
     "iopub.status.busy": "2023-03-24T03:03:31.226873Z",
     "iopub.status.idle": "2023-03-24T03:03:31.234933Z",
     "shell.execute_reply": "2023-03-24T03:03:31.234035Z"
    },
    "papermill": {
     "duration": 0.028361,
     "end_time": "2023-03-24T03:03:31.237983",
     "exception": false,
     "start_time": "2023-03-24T03:03:31.209622",
     "status": "completed"
    },
    "tags": []
   },
   "outputs": [],
   "source": [
    "categorical_features = list(data.select_dtypes(include='object').columns)"
   ]
  },
  {
   "cell_type": "code",
   "execution_count": 8,
   "id": "3736669c",
   "metadata": {
    "execution": {
     "iopub.execute_input": "2023-03-24T03:03:31.271560Z",
     "iopub.status.busy": "2023-03-24T03:03:31.270826Z",
     "iopub.status.idle": "2023-03-24T03:03:31.277822Z",
     "shell.execute_reply": "2023-03-24T03:03:31.276158Z"
    },
    "papermill": {
     "duration": 0.026999,
     "end_time": "2023-03-24T03:03:31.280641",
     "exception": false,
     "start_time": "2023-03-24T03:03:31.253642",
     "status": "completed"
    },
    "tags": []
   },
   "outputs": [
    {
     "name": "stdout",
     "output_type": "stream",
     "text": [
      "There are 0 categorical variables\n",
      "\n",
      "The categorical variables are : []\n"
     ]
    }
   ],
   "source": [
    "print('There are {} categorical variables\\n'.format(len(categorical_features)))\n",
    "\n",
    "print('The categorical variables are :', categorical_features)\n"
   ]
  },
  {
   "cell_type": "code",
   "execution_count": 9,
   "id": "a215e010",
   "metadata": {
    "execution": {
     "iopub.execute_input": "2023-03-24T03:03:31.314262Z",
     "iopub.status.busy": "2023-03-24T03:03:31.313139Z",
     "iopub.status.idle": "2023-03-24T03:03:31.322596Z",
     "shell.execute_reply": "2023-03-24T03:03:31.321297Z"
    },
    "papermill": {
     "duration": 0.029143,
     "end_time": "2023-03-24T03:03:31.325331",
     "exception": false,
     "start_time": "2023-03-24T03:03:31.296188",
     "status": "completed"
    },
    "tags": []
   },
   "outputs": [],
   "source": [
    "numerical_features = list(data.select_dtypes(exclude='object').columns)"
   ]
  },
  {
   "cell_type": "code",
   "execution_count": 10,
   "id": "3312a4bb",
   "metadata": {
    "execution": {
     "iopub.execute_input": "2023-03-24T03:03:31.359623Z",
     "iopub.status.busy": "2023-03-24T03:03:31.359201Z",
     "iopub.status.idle": "2023-03-24T03:03:31.417582Z",
     "shell.execute_reply": "2023-03-24T03:03:31.415808Z"
    },
    "papermill": {
     "duration": 0.079518,
     "end_time": "2023-03-24T03:03:31.420751",
     "exception": false,
     "start_time": "2023-03-24T03:03:31.341233",
     "status": "completed"
    },
    "tags": []
   },
   "outputs": [
    {
     "name": "stdout",
     "output_type": "stream",
     "text": [
      "There are 14 numerical variables\n",
      "\n",
      "The numerical variables are : ['Unnamed: 0', 'X1', 'X2', 'X3', 'X4', 'X5', 'X6', 'X7', 'X8', 'X9', 'X10', 'X11', 'X12', 'Y']\n",
      "       Unnamed: 0     X1      X2     X3     X4     X5     X6     X7     X8  \\\n",
      "count       998.0  997.0   997.0  996.0  997.0  997.0  996.0  998.0  998.0   \n",
      "mean        498.0   -1.0     1.0    7.0    6.0    8.0    5.0    8.0    1.0   \n",
      "std         288.0    4.0    32.0    4.0    5.0   36.0    6.0    5.0    0.0   \n",
      "min           0.0 -100.0   -12.0   -7.0   -5.0  -78.0    0.0    2.0    0.0   \n",
      "25%         249.0   -1.0    -5.0    5.0    3.0  -25.0    1.0    4.0    0.0   \n",
      "50%         498.0   -1.0     3.0    8.0    6.0   14.0    3.0    6.0    1.0   \n",
      "75%         748.0    0.0     5.0   10.0    9.0   40.0    8.0   11.0    1.0   \n",
      "max         997.0    4.0  1000.0   15.0   90.0   78.0   60.0   32.0    1.0   \n",
      "\n",
      "          X9    X10    X11    X12      Y  \n",
      "count  998.0  997.0  998.0  996.0  998.0  \n",
      "mean     0.0    5.0   26.0   73.0    0.0  \n",
      "std      0.0    4.0    4.0    9.0    1.0  \n",
      "min      0.0    0.0   14.0   49.0   -1.0  \n",
      "25%      0.0    2.0   23.0   65.0   -1.0  \n",
      "50%      0.0    6.0   26.0   73.0    0.0  \n",
      "75%      1.0    9.0   29.0   80.0    1.0  \n",
      "max      1.0   10.0   37.0   92.0    1.0   2\n"
     ]
    }
   ],
   "source": [
    "print('There are {} numerical variables\\n'.format(len(numerical_features)))\n",
    "\n",
    "print('The numerical variables are :', numerical_features)\n",
    "\n",
    "print(round(data[numerical_features].describe()),2)"
   ]
  },
  {
   "cell_type": "code",
   "execution_count": 11,
   "id": "bc695696",
   "metadata": {
    "execution": {
     "iopub.execute_input": "2023-03-24T03:03:31.455105Z",
     "iopub.status.busy": "2023-03-24T03:03:31.454696Z",
     "iopub.status.idle": "2023-03-24T03:03:31.464910Z",
     "shell.execute_reply": "2023-03-24T03:03:31.463611Z"
    },
    "papermill": {
     "duration": 0.03083,
     "end_time": "2023-03-24T03:03:31.467678",
     "exception": false,
     "start_time": "2023-03-24T03:03:31.436848",
     "status": "completed"
    },
    "tags": []
   },
   "outputs": [
    {
     "data": {
      "text/plain": [
       "Series([], dtype: bool)"
      ]
     },
     "execution_count": 11,
     "metadata": {},
     "output_type": "execute_result"
    }
   ],
   "source": [
    "data[categorical_features].isnull().any()"
   ]
  },
  {
   "cell_type": "code",
   "execution_count": 12,
   "id": "6ca0d13e",
   "metadata": {
    "execution": {
     "iopub.execute_input": "2023-03-24T03:03:31.502949Z",
     "iopub.status.busy": "2023-03-24T03:03:31.502548Z",
     "iopub.status.idle": "2023-03-24T03:03:31.508799Z",
     "shell.execute_reply": "2023-03-24T03:03:31.507602Z"
    },
    "papermill": {
     "duration": 0.027107,
     "end_time": "2023-03-24T03:03:31.511537",
     "exception": false,
     "start_time": "2023-03-24T03:03:31.484430",
     "status": "completed"
    },
    "tags": []
   },
   "outputs": [],
   "source": [
    "#The column 'Unnamed: 0' is useless so we can drop it\n",
    "data.drop(['Unnamed: 0'],axis=1,inplace=True)\n"
   ]
  },
  {
   "cell_type": "code",
   "execution_count": 13,
   "id": "d81f3f5a",
   "metadata": {
    "execution": {
     "iopub.execute_input": "2023-03-24T03:03:31.546977Z",
     "iopub.status.busy": "2023-03-24T03:03:31.546547Z",
     "iopub.status.idle": "2023-03-24T03:03:31.556163Z",
     "shell.execute_reply": "2023-03-24T03:03:31.554463Z"
    },
    "papermill": {
     "duration": 0.031196,
     "end_time": "2023-03-24T03:03:31.559139",
     "exception": false,
     "start_time": "2023-03-24T03:03:31.527943",
     "status": "completed"
    },
    "tags": []
   },
   "outputs": [],
   "source": [
    "numerical_features = list(data.select_dtypes(exclude='object').columns)"
   ]
  },
  {
   "cell_type": "code",
   "execution_count": 14,
   "id": "fbbbc95b",
   "metadata": {
    "execution": {
     "iopub.execute_input": "2023-03-24T03:03:31.592897Z",
     "iopub.status.busy": "2023-03-24T03:03:31.592505Z",
     "iopub.status.idle": "2023-03-24T03:03:31.606877Z",
     "shell.execute_reply": "2023-03-24T03:03:31.605456Z"
    },
    "papermill": {
     "duration": 0.034554,
     "end_time": "2023-03-24T03:03:31.609688",
     "exception": false,
     "start_time": "2023-03-24T03:03:31.575134",
     "status": "completed"
    },
    "tags": []
   },
   "outputs": [
    {
     "data": {
      "text/plain": [
       "X1     False\n",
       "X2     False\n",
       "X3     False\n",
       "X4     False\n",
       "X5     False\n",
       "X6     False\n",
       "X7     False\n",
       "X8     False\n",
       "X9     False\n",
       "X10    False\n",
       "X11    False\n",
       "X12    False\n",
       "Y      False\n",
       "dtype: bool"
      ]
     },
     "execution_count": 14,
     "metadata": {},
     "output_type": "execute_result"
    }
   ],
   "source": [
    "#The easiest way to proceed is to eliminate the columns with missing values\n",
    "#since is not a great number of samples \n",
    "data.dropna(inplace=True)\n",
    "data.isnull().any()"
   ]
  },
  {
   "cell_type": "code",
   "execution_count": 15,
   "id": "4a15ec73",
   "metadata": {
    "execution": {
     "iopub.execute_input": "2023-03-24T03:03:31.644769Z",
     "iopub.status.busy": "2023-03-24T03:03:31.643552Z",
     "iopub.status.idle": "2023-03-24T03:03:31.650892Z",
     "shell.execute_reply": "2023-03-24T03:03:31.649764Z"
    },
    "papermill": {
     "duration": 0.027181,
     "end_time": "2023-03-24T03:03:31.653235",
     "exception": false,
     "start_time": "2023-03-24T03:03:31.626054",
     "status": "completed"
    },
    "tags": []
   },
   "outputs": [
    {
     "data": {
      "text/plain": [
       "(987, 13)"
      ]
     },
     "execution_count": 15,
     "metadata": {},
     "output_type": "execute_result"
    }
   ],
   "source": [
    "data.shape"
   ]
  },
  {
   "cell_type": "code",
   "execution_count": 16,
   "id": "926d57a7",
   "metadata": {
    "execution": {
     "iopub.execute_input": "2023-03-24T03:03:31.687233Z",
     "iopub.status.busy": "2023-03-24T03:03:31.686769Z",
     "iopub.status.idle": "2023-03-24T03:03:31.691677Z",
     "shell.execute_reply": "2023-03-24T03:03:31.690626Z"
    },
    "papermill": {
     "duration": 0.024645,
     "end_time": "2023-03-24T03:03:31.694039",
     "exception": false,
     "start_time": "2023-03-24T03:03:31.669394",
     "status": "completed"
    },
    "tags": []
   },
   "outputs": [],
   "source": [
    "#we keep 987 samples out of 998"
   ]
  },
  {
   "cell_type": "code",
   "execution_count": 17,
   "id": "8f7246e1",
   "metadata": {
    "execution": {
     "iopub.execute_input": "2023-03-24T03:03:31.728242Z",
     "iopub.status.busy": "2023-03-24T03:03:31.727816Z",
     "iopub.status.idle": "2023-03-24T03:03:37.963512Z",
     "shell.execute_reply": "2023-03-24T03:03:37.961954Z"
    },
    "papermill": {
     "duration": 6.256174,
     "end_time": "2023-03-24T03:03:37.966340",
     "exception": false,
     "start_time": "2023-03-24T03:03:31.710166",
     "status": "completed"
    },
    "tags": []
   },
   "outputs": [
    {
     "data": {
      "image/png": "[encoded data removed]",
      "text/plain": [
       "<Figure size 500x500 with 1 Axes>"
      ]
     },
     "metadata": {},
     "output_type": "display_data"
    },
    {
     "data": {
      "image/png": "[encoded data removed]",
      "text/plain": [
       "<Figure size 500x500 with 1 Axes>"
      ]
     },
     "metadata": {},
     "output_type": "display_data"
    },
    {
     "data": {
      "image/png": "[encoded data removed]",
      "text/plain": [
       "<Figure size 500x500 with 1 Axes>"
      ]
     },
     "metadata": {},
     "output_type": "display_data"
    },
    {
     "data": {
      "image/png": "[encoded data removed]",
      "text/plain": [
       "<Figure size 500x500 with 1 Axes>"
      ]
     },
     "metadata": {},
     "output_type": "display_data"
    },
    {
     "data": {
      "image/png": "[encoded data removed]",
      "text/plain": [
       "<Figure size 500x500 with 1 Axes>"
      ]
     },
     "metadata": {},
     "output_type": "display_data"
    },
    {
     "data": {
      "image/png": "[encoded data removed]",
      "text/plain": [
       "<Figure size 500x500 with 1 Axes>"
      ]
     },
     "metadata": {},
     "output_type": "display_data"
    },
    {
     "data": {
      "image/png": "[encoded data removed]",
      "text/plain": [
       "<Figure size 500x500 with 1 Axes>"
      ]
     },
     "metadata": {},
     "output_type": "display_data"
    },
    {
     "data": {
      "image/png": "[encoded data removed]",
      "text/plain": [
       "<Figure size 500x500 with 1 Axes>"
      ]
     },
     "metadata": {},
     "output_type": "display_data"
    },
    {
     "data": {
      "image/png": "[encoded data removed]",
      "text/plain": [
       "<Figure size 500x500 with 1 Axes>"
      ]
     },
     "metadata": {},
     "output_type": "display_data"
    },
    {
     "data": {
      "image/png": "[encoded data removed]",
      "text/plain": [
       "<Figure size 500x500 with 1 Axes>"
      ]
     },
     "metadata": {},
     "output_type": "display_data"
    },
    {
     "data": {
      "image/png": "[encoded data removed]",
      "text/plain": [
       "<Figure size 500x500 with 1 Axes>"
      ]
     },
     "metadata": {},
     "output_type": "display_data"
    },
    {
     "data": {
      "image/png": "[encoded data removed]",
      "text/plain": [
       "<Figure size 500x500 with 1 Axes>"
      ]
     },
     "metadata": {},
     "output_type": "display_data"
    },
    {
     "data": {
      "image/png": "[encoded data removed]",
      "text/plain": [
       "<Figure size 500x500 with 1 Axes>"
      ]
     },
     "metadata": {},
     "output_type": "display_data"
    }
   ],
   "source": [
    "for i in numerical_features:\n",
    "    sns.displot(data[i])\n",
    "    plt.show()"
   ]
  },
  {
   "cell_type": "code",
   "execution_count": 18,
   "id": "e078a9f6",
   "metadata": {
    "execution": {
     "iopub.execute_input": "2023-03-24T03:03:38.010604Z",
     "iopub.status.busy": "2023-03-24T03:03:38.009779Z",
     "iopub.status.idle": "2023-03-24T03:03:38.017608Z",
     "shell.execute_reply": "2023-03-24T03:03:38.016254Z"
    },
    "papermill": {
     "duration": 0.032959,
     "end_time": "2023-03-24T03:03:38.020420",
     "exception": false,
     "start_time": "2023-03-24T03:03:37.987461",
     "status": "completed"
    },
    "tags": []
   },
   "outputs": [
    {
     "data": {
      "text/plain": [
       "['X1',\n",
       " 'X2',\n",
       " 'X3',\n",
       " 'X4',\n",
       " 'X5',\n",
       " 'X6',\n",
       " 'X7',\n",
       " 'X8',\n",
       " 'X9',\n",
       " 'X10',\n",
       " 'X11',\n",
       " 'X12',\n",
       " 'Y']"
      ]
     },
     "execution_count": 18,
     "metadata": {},
     "output_type": "execute_result"
    }
   ],
   "source": [
    "numerical_features"
   ]
  },
  {
   "cell_type": "markdown",
   "id": "ef3ed9f3",
   "metadata": {
    "papermill": {
     "duration": 0.020189,
     "end_time": "2023-03-24T03:03:38.061226",
     "exception": false,
     "start_time": "2023-03-24T03:03:38.041037",
     "status": "completed"
    },
    "tags": []
   },
   "source": [
    "#### Null values have been handled"
   ]
  },
  {
   "cell_type": "markdown",
   "id": "c0454166",
   "metadata": {
    "papermill": {
     "duration": 0.021575,
     "end_time": "2023-03-24T03:03:38.103466",
     "exception": false,
     "start_time": "2023-03-24T03:03:38.081891",
     "status": "completed"
    },
    "tags": []
   },
   "source": [
    "### We check for outliers  "
   ]
  },
  {
   "cell_type": "code",
   "execution_count": 19,
   "id": "246ebe2f",
   "metadata": {
    "execution": {
     "iopub.execute_input": "2023-03-24T03:03:38.147101Z",
     "iopub.status.busy": "2023-03-24T03:03:38.145986Z",
     "iopub.status.idle": "2023-03-24T03:03:38.153107Z",
     "shell.execute_reply": "2023-03-24T03:03:38.152134Z"
    },
    "papermill": {
     "duration": 0.031903,
     "end_time": "2023-03-24T03:03:38.155754",
     "exception": false,
     "start_time": "2023-03-24T03:03:38.123851",
     "status": "completed"
    },
    "tags": []
   },
   "outputs": [],
   "source": [
    "import numpy as np\n",
    "def iqr(data,col):\n",
    "    q1,q3 = np.percentile(data[col],[25,75])\n",
    "    iqr = q3-q1 \n",
    "    lower = q1-1.5*iqr\n",
    "    upper = q3+1.5*iqr\n",
    "    data = data[(data[col]>lower) & (data[col]<upper)]\n",
    "    data.boxplot(col)"
   ]
  },
  {
   "cell_type": "code",
   "execution_count": 20,
   "id": "78f991da",
   "metadata": {
    "execution": {
     "iopub.execute_input": "2023-03-24T03:03:38.199408Z",
     "iopub.status.busy": "2023-03-24T03:03:38.198573Z",
     "iopub.status.idle": "2023-03-24T03:03:38.206054Z",
     "shell.execute_reply": "2023-03-24T03:03:38.204599Z"
    },
    "papermill": {
     "duration": 0.03199,
     "end_time": "2023-03-24T03:03:38.208955",
     "exception": false,
     "start_time": "2023-03-24T03:03:38.176965",
     "status": "completed"
    },
    "tags": []
   },
   "outputs": [
    {
     "data": {
      "text/plain": [
       "['X1',\n",
       " 'X2',\n",
       " 'X3',\n",
       " 'X4',\n",
       " 'X5',\n",
       " 'X6',\n",
       " 'X7',\n",
       " 'X8',\n",
       " 'X9',\n",
       " 'X10',\n",
       " 'X11',\n",
       " 'X12',\n",
       " 'Y']"
      ]
     },
     "execution_count": 20,
     "metadata": {},
     "output_type": "execute_result"
    }
   ],
   "source": [
    "numerical_features"
   ]
  },
  {
   "cell_type": "code",
   "execution_count": 21,
   "id": "d43a00a5",
   "metadata": {
    "execution": {
     "iopub.execute_input": "2023-03-24T03:03:38.252438Z",
     "iopub.status.busy": "2023-03-24T03:03:38.251200Z",
     "iopub.status.idle": "2023-03-24T03:03:40.912879Z",
     "shell.execute_reply": "2023-03-24T03:03:40.911513Z"
    },
    "papermill": {
     "duration": 2.686312,
     "end_time": "2023-03-24T03:03:40.915879",
     "exception": false,
     "start_time": "2023-03-24T03:03:38.229567",
     "status": "completed"
    },
    "tags": []
   },
   "outputs": [
    {
     "data": {
      "image/png": "[encoded data removed]",
      "text/plain": [
       "<Figure size 640x480 with 1 Axes>"
      ]
     },
     "metadata": {},
     "output_type": "display_data"
    },
    {
     "data": {
      "image/png": "[encoded data removed]",
      "text/plain": [
       "<Figure size 640x480 with 1 Axes>"
      ]
     },
     "metadata": {},
     "output_type": "display_data"
    },
    {
     "data": {
      "image/png": "[encoded data removed]",
      "text/plain": [
       "<Figure size 640x480 with 1 Axes>"
      ]
     },
     "metadata": {},
     "output_type": "display_data"
    },
    {
     "data": {
      "image/png": "[encoded data removed]",
      "text/plain": [
       "<Figure size 640x480 with 1 Axes>"
      ]
     },
     "metadata": {},
     "output_type": "display_data"
    },
    {
     "data": {
      "image/png": "[encoded data removed]",
      "text/plain": [
       "<Figure size 640x480 with 1 Axes>"
      ]
     },
     "metadata": {},
     "output_type": "display_data"
    },
    {
     "data": {
      "image/png": "[encoded data removed]",
      "text/plain": [
       "<Figure size 640x480 with 1 Axes>"
      ]
     },
     "metadata": {},
     "output_type": "display_data"
    },
    {
     "data": {
      "image/png": "[encoded data removed]",
      "text/plain": [
       "<Figure size 640x480 with 1 Axes>"
      ]
     },
     "metadata": {},
     "output_type": "display_data"
    },
    {
     "data": {
      "image/png": "[encoded data removed]",
      "text/plain": [
       "<Figure size 640x480 with 1 Axes>"
      ]
     },
     "metadata": {},
     "output_type": "display_data"
    },
    {
     "data": {
      "image/png": "[encoded data removed]",
      "text/plain": [
       "<Figure size 640x480 with 1 Axes>"
      ]
     },
     "metadata": {},
     "output_type": "display_data"
    },
    {
     "data": {
      "image/png": "[encoded data removed]",
      "text/plain": [
       "<Figure size 640x480 with 1 Axes>"
      ]
     },
     "metadata": {},
     "output_type": "display_data"
    },
    {
     "data": {
      "image/png": "[encoded data removed]",
      "text/plain": [
       "<Figure size 640x480 with 1 Axes>"
      ]
     },
     "metadata": {},
     "output_type": "display_data"
    },
    {
     "data": {
      "image/png": "[encoded data removed]",
      "text/plain": [
       "<Figure size 640x480 with 1 Axes>"
      ]
     },
     "metadata": {},
     "output_type": "display_data"
    },
    {
     "data": {
      "image/png": "[encoded data removed]",
      "text/plain": [
       "<Figure size 640x480 with 1 Axes>"
      ]
     },
     "metadata": {},
     "output_type": "display_data"
    }
   ],
   "source": [
    "for i in numerical_features:\n",
    "    iqr(data,i)\n",
    "    plt.show()"
   ]
  },
  {
   "cell_type": "code",
   "execution_count": 22,
   "id": "11a8b4ab",
   "metadata": {
    "execution": {
     "iopub.execute_input": "2023-03-24T03:03:40.967866Z",
     "iopub.status.busy": "2023-03-24T03:03:40.967057Z",
     "iopub.status.idle": "2023-03-24T03:03:40.971487Z",
     "shell.execute_reply": "2023-03-24T03:03:40.970439Z"
    },
    "papermill": {
     "duration": 0.033319,
     "end_time": "2023-03-24T03:03:40.974021",
     "exception": false,
     "start_time": "2023-03-24T03:03:40.940702",
     "status": "completed"
    },
    "tags": []
   },
   "outputs": [],
   "source": [
    "#we can see outliers in X1, X4, X6, X7 and X11"
   ]
  },
  {
   "cell_type": "code",
   "execution_count": 23,
   "id": "07766ebd",
   "metadata": {
    "execution": {
     "iopub.execute_input": "2023-03-24T03:03:41.025861Z",
     "iopub.status.busy": "2023-03-24T03:03:41.024727Z",
     "iopub.status.idle": "2023-03-24T03:03:41.044621Z",
     "shell.execute_reply": "2023-03-24T03:03:41.043264Z"
    },
    "papermill": {
     "duration": 0.048523,
     "end_time": "2023-03-24T03:03:41.047135",
     "exception": false,
     "start_time": "2023-03-24T03:03:40.998612",
     "status": "completed"
    },
    "tags": []
   },
   "outputs": [
    {
     "data": {
      "text/html": [
       "<div>\n",
       "<style scoped>\n",
       "    .dataframe tbody tr th:only-of-type {\n",
       "        vertical-align: middle;\n",
       "    }\n",
       "\n",
       "    .dataframe tbody tr th {\n",
       "        vertical-align: top;\n",
       "    }\n",
       "\n",
       "    .dataframe thead th {\n",
       "        text-align: right;\n",
       "    }\n",
       "</style>\n",
       "<table border=\"1\" class=\"dataframe\">\n",
       "  <thead>\n",
       "    <tr style=\"text-align: right;\">\n",
       "      <th></th>\n",
       "      <th>X1</th>\n",
       "      <th>X2</th>\n",
       "      <th>X3</th>\n",
       "      <th>X4</th>\n",
       "      <th>X5</th>\n",
       "      <th>X6</th>\n",
       "      <th>X7</th>\n",
       "      <th>X8</th>\n",
       "      <th>X9</th>\n",
       "      <th>X10</th>\n",
       "      <th>X11</th>\n",
       "      <th>X12</th>\n",
       "      <th>Y</th>\n",
       "    </tr>\n",
       "  </thead>\n",
       "  <tbody>\n",
       "    <tr>\n",
       "      <th>0</th>\n",
       "      <td>-0.321535</td>\n",
       "      <td>4.815628</td>\n",
       "      <td>12.737615</td>\n",
       "      <td>12.485036</td>\n",
       "      <td>33.306948</td>\n",
       "      <td>1.106542</td>\n",
       "      <td>5.624196</td>\n",
       "      <td>0.131773</td>\n",
       "      <td>1</td>\n",
       "      <td>9.0</td>\n",
       "      <td>31</td>\n",
       "      <td>75.0</td>\n",
       "      <td>1</td>\n",
       "    </tr>\n",
       "    <tr>\n",
       "      <th>1</th>\n",
       "      <td>0.411607</td>\n",
       "      <td>5.562759</td>\n",
       "      <td>7.648079</td>\n",
       "      <td>4.920547</td>\n",
       "      <td>35.414063</td>\n",
       "      <td>2.296669</td>\n",
       "      <td>4.483413</td>\n",
       "      <td>0.825143</td>\n",
       "      <td>1</td>\n",
       "      <td>9.0</td>\n",
       "      <td>29</td>\n",
       "      <td>76.0</td>\n",
       "      <td>1</td>\n",
       "    </tr>\n",
       "    <tr>\n",
       "      <th>2</th>\n",
       "      <td>0.700029</td>\n",
       "      <td>5.819643</td>\n",
       "      <td>10.586706</td>\n",
       "      <td>8.762863</td>\n",
       "      <td>32.404584</td>\n",
       "      <td>0.811097</td>\n",
       "      <td>5.944864</td>\n",
       "      <td>0.681252</td>\n",
       "      <td>1</td>\n",
       "      <td>10.0</td>\n",
       "      <td>24</td>\n",
       "      <td>88.0</td>\n",
       "      <td>1</td>\n",
       "    </tr>\n",
       "    <tr>\n",
       "      <th>3</th>\n",
       "      <td>0.226974</td>\n",
       "      <td>5.285195</td>\n",
       "      <td>10.258356</td>\n",
       "      <td>10.778447</td>\n",
       "      <td>45.987042</td>\n",
       "      <td>0.110584</td>\n",
       "      <td>5.708611</td>\n",
       "      <td>0.857634</td>\n",
       "      <td>1</td>\n",
       "      <td>9.0</td>\n",
       "      <td>29</td>\n",
       "      <td>78.0</td>\n",
       "      <td>1</td>\n",
       "    </tr>\n",
       "    <tr>\n",
       "      <th>4</th>\n",
       "      <td>0.147070</td>\n",
       "      <td>5.918314</td>\n",
       "      <td>13.985822</td>\n",
       "      <td>0.827570</td>\n",
       "      <td>21.949347</td>\n",
       "      <td>0.050553</td>\n",
       "      <td>7.426944</td>\n",
       "      <td>0.645198</td>\n",
       "      <td>1</td>\n",
       "      <td>10.0</td>\n",
       "      <td>31</td>\n",
       "      <td>85.0</td>\n",
       "      <td>1</td>\n",
       "    </tr>\n",
       "  </tbody>\n",
       "</table>\n",
       "</div>"
      ],
      "text/plain": [
       "         X1        X2         X3         X4         X5        X6        X7  \\\n",
       "0 -0.321535  4.815628  12.737615  12.485036  33.306948  1.106542  5.624196   \n",
       "1  0.411607  5.562759   7.648079   4.920547  35.414063  2.296669  4.483413   \n",
       "2  0.700029  5.819643  10.586706   8.762863  32.404584  0.811097  5.944864   \n",
       "3  0.226974  5.285195  10.258356  10.778447  45.987042  0.110584  5.708611   \n",
       "4  0.147070  5.918314  13.985822   0.827570  21.949347  0.050553  7.426944   \n",
       "\n",
       "         X8  X9   X10  X11   X12  Y  \n",
       "0  0.131773   1   9.0   31  75.0  1  \n",
       "1  0.825143   1   9.0   29  76.0  1  \n",
       "2  0.681252   1  10.0   24  88.0  1  \n",
       "3  0.857634   1   9.0   29  78.0  1  \n",
       "4  0.645198   1  10.0   31  85.0  1  "
      ]
     },
     "execution_count": 23,
     "metadata": {},
     "output_type": "execute_result"
    }
   ],
   "source": [
    "data.head()"
   ]
  },
  {
   "cell_type": "markdown",
   "id": "81f24a4a",
   "metadata": {
    "papermill": {
     "duration": 0.023553,
     "end_time": "2023-03-24T03:03:41.094591",
     "exception": false,
     "start_time": "2023-03-24T03:03:41.071038",
     "status": "completed"
    },
    "tags": []
   },
   "source": [
    "### Label encoding"
   ]
  },
  {
   "cell_type": "code",
   "execution_count": 24,
   "id": "10ad5827",
   "metadata": {
    "execution": {
     "iopub.execute_input": "2023-03-24T03:03:41.144695Z",
     "iopub.status.busy": "2023-03-24T03:03:41.144261Z",
     "iopub.status.idle": "2023-03-24T03:03:41.148537Z",
     "shell.execute_reply": "2023-03-24T03:03:41.147588Z"
    },
    "papermill": {
     "duration": 0.032606,
     "end_time": "2023-03-24T03:03:41.151424",
     "exception": false,
     "start_time": "2023-03-24T03:03:41.118818",
     "status": "completed"
    },
    "tags": []
   },
   "outputs": [],
   "source": [
    "# we don't need label encoding since we don't have categorical features"
   ]
  },
  {
   "cell_type": "code",
   "execution_count": 25,
   "id": "7af98b2f",
   "metadata": {
    "execution": {
     "iopub.execute_input": "2023-03-24T03:03:41.203676Z",
     "iopub.status.busy": "2023-03-24T03:03:41.202917Z",
     "iopub.status.idle": "2023-03-24T03:03:41.217963Z",
     "shell.execute_reply": "2023-03-24T03:03:41.216167Z"
    },
    "papermill": {
     "duration": 0.044712,
     "end_time": "2023-03-24T03:03:41.221361",
     "exception": false,
     "start_time": "2023-03-24T03:03:41.176649",
     "status": "completed"
    },
    "tags": []
   },
   "outputs": [
    {
     "name": "stdout",
     "output_type": "stream",
     "text": [
      "<class 'pandas.core.frame.DataFrame'>\n",
      "Int64Index: 987 entries, 0 to 997\n",
      "Data columns (total 13 columns):\n",
      " #   Column  Non-Null Count  Dtype  \n",
      "---  ------  --------------  -----  \n",
      " 0   X1      987 non-null    float64\n",
      " 1   X2      987 non-null    float64\n",
      " 2   X3      987 non-null    float64\n",
      " 3   X4      987 non-null    float64\n",
      " 4   X5      987 non-null    float64\n",
      " 5   X6      987 non-null    float64\n",
      " 6   X7      987 non-null    float64\n",
      " 7   X8      987 non-null    float64\n",
      " 8   X9      987 non-null    int64  \n",
      " 9   X10     987 non-null    float64\n",
      " 10  X11     987 non-null    int64  \n",
      " 11  X12     987 non-null    float64\n",
      " 12  Y       987 non-null    int64  \n",
      "dtypes: float64(10), int64(3)\n",
      "memory usage: 108.0 KB\n"
     ]
    }
   ],
   "source": [
    "data.info()"
   ]
  },
  {
   "cell_type": "markdown",
   "id": "aaf7572c",
   "metadata": {
    "papermill": {
     "duration": 0.023988,
     "end_time": "2023-03-24T03:03:41.270323",
     "exception": false,
     "start_time": "2023-03-24T03:03:41.246335",
     "status": "completed"
    },
    "tags": []
   },
   "source": [
    "### All the features are  numerical"
   ]
  },
  {
   "cell_type": "markdown",
   "id": "4adab440",
   "metadata": {
    "papermill": {
     "duration": 0.023596,
     "end_time": "2023-03-24T03:03:41.317738",
     "exception": false,
     "start_time": "2023-03-24T03:03:41.294142",
     "status": "completed"
    },
    "tags": []
   },
   "source": [
    "> ### Store the value of features and target output in seperate DataFrames"
   ]
  },
  {
   "cell_type": "code",
   "execution_count": 26,
   "id": "482c54e0",
   "metadata": {
    "execution": {
     "iopub.execute_input": "2023-03-24T03:03:41.369306Z",
     "iopub.status.busy": "2023-03-24T03:03:41.368495Z",
     "iopub.status.idle": "2023-03-24T03:03:41.374598Z",
     "shell.execute_reply": "2023-03-24T03:03:41.373569Z"
    },
    "papermill": {
     "duration": 0.035362,
     "end_time": "2023-03-24T03:03:41.377280",
     "exception": false,
     "start_time": "2023-03-24T03:03:41.341918",
     "status": "completed"
    },
    "tags": []
   },
   "outputs": [],
   "source": [
    "x = data.drop(['Y'],axis=1).values\n",
    "y = data['Y'].values\n"
   ]
  },
  {
   "cell_type": "markdown",
   "id": "552444e5",
   "metadata": {
    "papermill": {
     "duration": 0.02479,
     "end_time": "2023-03-24T03:03:41.426712",
     "exception": false,
     "start_time": "2023-03-24T03:03:41.401922",
     "status": "completed"
    },
    "tags": []
   },
   "source": [
    "> ### Split into training and testing set"
   ]
  },
  {
   "cell_type": "code",
   "execution_count": 27,
   "id": "e9aa71c8",
   "metadata": {
    "execution": {
     "iopub.execute_input": "2023-03-24T03:03:41.478672Z",
     "iopub.status.busy": "2023-03-24T03:03:41.477941Z",
     "iopub.status.idle": "2023-03-24T03:03:41.757053Z",
     "shell.execute_reply": "2023-03-24T03:03:41.755843Z"
    },
    "papermill": {
     "duration": 0.30835,
     "end_time": "2023-03-24T03:03:41.760290",
     "exception": false,
     "start_time": "2023-03-24T03:03:41.451940",
     "status": "completed"
    },
    "tags": []
   },
   "outputs": [],
   "source": [
    "from sklearn.model_selection import train_test_split\n",
    "x_train,x_test,y_train,y_test = train_test_split(x,y,test_size=0.30,random_state=100) "
   ]
  },
  {
   "cell_type": "code",
   "execution_count": 28,
   "id": "c0cebafc",
   "metadata": {
    "execution": {
     "iopub.execute_input": "2023-03-24T03:03:41.810890Z",
     "iopub.status.busy": "2023-03-24T03:03:41.810237Z",
     "iopub.status.idle": "2023-03-24T03:03:41.817551Z",
     "shell.execute_reply": "2023-03-24T03:03:41.815842Z"
    },
    "papermill": {
     "duration": 0.036877,
     "end_time": "2023-03-24T03:03:41.820913",
     "exception": false,
     "start_time": "2023-03-24T03:03:41.784036",
     "status": "completed"
    },
    "tags": []
   },
   "outputs": [
    {
     "name": "stdout",
     "output_type": "stream",
     "text": [
      "(690, 12)\n",
      "(690,)\n",
      "(297, 12)\n",
      "(297,)\n"
     ]
    }
   ],
   "source": [
    "print(x_train.shape)\n",
    "print(y_train.shape)\n",
    "print(x_test.shape)\n",
    "print(y_test.shape)"
   ]
  },
  {
   "cell_type": "markdown",
   "id": "c154a874",
   "metadata": {
    "papermill": {
     "duration": 0.025442,
     "end_time": "2023-03-24T03:03:41.871213",
     "exception": false,
     "start_time": "2023-03-24T03:03:41.845771",
     "status": "completed"
    },
    "tags": []
   },
   "source": [
    "> ## Feature Scaling"
   ]
  },
  {
   "cell_type": "code",
   "execution_count": 29,
   "id": "695352dc",
   "metadata": {
    "execution": {
     "iopub.execute_input": "2023-03-24T03:03:41.924160Z",
     "iopub.status.busy": "2023-03-24T03:03:41.922942Z",
     "iopub.status.idle": "2023-03-24T03:03:41.930487Z",
     "shell.execute_reply": "2023-03-24T03:03:41.929196Z"
    },
    "papermill": {
     "duration": 0.036139,
     "end_time": "2023-03-24T03:03:41.933175",
     "exception": false,
     "start_time": "2023-03-24T03:03:41.897036",
     "status": "completed"
    },
    "tags": []
   },
   "outputs": [],
   "source": [
    "from sklearn.preprocessing import StandardScaler\n",
    "scaler = StandardScaler()\n",
    "x_train = scaler.fit_transform(x_train)\n",
    "x_test = scaler.transform(x_test)"
   ]
  },
  {
   "cell_type": "markdown",
   "id": "d2dc48f3",
   "metadata": {
    "papermill": {
     "duration": 0.024651,
     "end_time": "2023-03-24T03:03:41.982883",
     "exception": false,
     "start_time": "2023-03-24T03:03:41.958232",
     "status": "completed"
    },
    "tags": []
   },
   "source": [
    "> ### Apply logistic regression and fit the model"
   ]
  },
  {
   "cell_type": "code",
   "execution_count": 30,
   "id": "5b69d71e",
   "metadata": {
    "execution": {
     "iopub.execute_input": "2023-03-24T03:03:42.034632Z",
     "iopub.status.busy": "2023-03-24T03:03:42.033370Z",
     "iopub.status.idle": "2023-03-24T03:03:42.172705Z",
     "shell.execute_reply": "2023-03-24T03:03:42.171323Z"
    },
    "papermill": {
     "duration": 0.168118,
     "end_time": "2023-03-24T03:03:42.175820",
     "exception": false,
     "start_time": "2023-03-24T03:03:42.007702",
     "status": "completed"
    },
    "tags": []
   },
   "outputs": [
    {
     "data": {
      "text/plain": [
       "LogisticRegression()"
      ]
     },
     "execution_count": 30,
     "metadata": {},
     "output_type": "execute_result"
    }
   ],
   "source": [
    "from sklearn.linear_model import LogisticRegression\n",
    "log_reg = LogisticRegression()\n",
    "log_reg.fit(x_train, y_train)"
   ]
  },
  {
   "cell_type": "markdown",
   "id": "3e21bf09",
   "metadata": {
    "papermill": {
     "duration": 0.023886,
     "end_time": "2023-03-24T03:03:42.223904",
     "exception": false,
     "start_time": "2023-03-24T03:03:42.200018",
     "status": "completed"
    },
    "tags": []
   },
   "source": [
    "> ### Predict the values"
   ]
  },
  {
   "cell_type": "code",
   "execution_count": 31,
   "id": "96ea929f",
   "metadata": {
    "execution": {
     "iopub.execute_input": "2023-03-24T03:03:42.275031Z",
     "iopub.status.busy": "2023-03-24T03:03:42.273933Z",
     "iopub.status.idle": "2023-03-24T03:03:42.280004Z",
     "shell.execute_reply": "2023-03-24T03:03:42.278979Z"
    },
    "papermill": {
     "duration": 0.034408,
     "end_time": "2023-03-24T03:03:42.282675",
     "exception": false,
     "start_time": "2023-03-24T03:03:42.248267",
     "status": "completed"
    },
    "tags": []
   },
   "outputs": [],
   "source": [
    "y_pred = log_reg.predict(x_test)"
   ]
  },
  {
   "cell_type": "code",
   "execution_count": 32,
   "id": "f49dbef4",
   "metadata": {
    "execution": {
     "iopub.execute_input": "2023-03-24T03:03:42.333295Z",
     "iopub.status.busy": "2023-03-24T03:03:42.332465Z",
     "iopub.status.idle": "2023-03-24T03:03:42.340644Z",
     "shell.execute_reply": "2023-03-24T03:03:42.339599Z"
    },
    "papermill": {
     "duration": 0.03641,
     "end_time": "2023-03-24T03:03:42.343105",
     "exception": false,
     "start_time": "2023-03-24T03:03:42.306695",
     "status": "completed"
    },
    "tags": []
   },
   "outputs": [
    {
     "data": {
      "text/plain": [
       "array([-1, -1,  1, -1, -1,  1,  1, -1,  1,  1,  1, -1, -1,  1,  1,  1, -1,\n",
       "        1,  1,  1, -1, -1,  1,  1, -1,  1, -1,  1, -1, -1,  1,  1,  1, -1,\n",
       "       -1,  1, -1, -1, -1, -1, -1,  1, -1,  1,  1, -1, -1,  1,  1,  1, -1,\n",
       "        1,  1, -1,  1,  1,  1,  1,  1,  1,  1,  1,  1, -1,  1,  1, -1,  1,\n",
       "        1, -1, -1,  1, -1,  1,  1,  1, -1,  1,  1,  1,  1,  1, -1, -1, -1,\n",
       "        1, -1,  1,  1,  1,  1, -1, -1, -1,  1, -1, -1, -1,  1,  1,  1, -1,\n",
       "        1,  1,  1, -1,  1,  1,  1, -1, -1, -1,  1, -1,  1, -1,  1, -1, -1,\n",
       "       -1,  1, -1, -1,  1,  1, -1, -1, -1,  1, -1,  1,  1,  1, -1, -1, -1,\n",
       "        1,  1,  1, -1, -1, -1, -1, -1,  1,  1, -1, -1,  1, -1, -1, -1,  1,\n",
       "       -1,  1,  1, -1,  1, -1, -1, -1,  1, -1,  1, -1,  1, -1, -1, -1,  1,\n",
       "       -1,  1, -1,  1,  1,  1, -1, -1, -1, -1,  1, -1,  1,  1, -1, -1, -1,\n",
       "        1, -1,  1, -1,  1,  1, -1,  1,  1,  1,  1, -1, -1,  1,  1,  1,  1,\n",
       "       -1, -1,  1,  1,  1,  1,  1, -1,  1,  1,  1, -1, -1,  1,  1, -1,  1,\n",
       "       -1,  1,  1,  1, -1,  1,  1,  1, -1, -1,  1,  1, -1,  1, -1,  1, -1,\n",
       "       -1,  1, -1,  1, -1, -1, -1, -1, -1,  1,  1, -1, -1,  1,  1, -1,  1,\n",
       "        1,  1,  1, -1, -1, -1,  1, -1,  1,  1,  1, -1, -1, -1,  1,  1, -1,\n",
       "        1, -1, -1, -1, -1,  1, -1,  1,  1, -1, -1,  1, -1,  1,  1, -1,  1,\n",
       "        1,  1,  1,  1,  1,  1, -1,  1])"
      ]
     },
     "execution_count": 32,
     "metadata": {},
     "output_type": "execute_result"
    }
   ],
   "source": [
    "y_pred"
   ]
  },
  {
   "cell_type": "markdown",
   "id": "b2e0ed56",
   "metadata": {
    "papermill": {
     "duration": 0.023845,
     "end_time": "2023-03-24T03:03:42.390876",
     "exception": false,
     "start_time": "2023-03-24T03:03:42.367031",
     "status": "completed"
    },
    "tags": []
   },
   "source": [
    "predict_proba method\\\n",
    "predict_proba method gives the probabilities for the target variable(0 and 1) in this case, in array form.\\\n",
    "0 is for probability of no rain and 1 is for probability of rain."
   ]
  },
  {
   "cell_type": "code",
   "execution_count": 33,
   "id": "cd19bcd0",
   "metadata": {
    "execution": {
     "iopub.execute_input": "2023-03-24T03:03:42.442312Z",
     "iopub.status.busy": "2023-03-24T03:03:42.441502Z",
     "iopub.status.idle": "2023-03-24T03:03:42.453651Z",
     "shell.execute_reply": "2023-03-24T03:03:42.452408Z"
    },
    "papermill": {
     "duration": 0.040622,
     "end_time": "2023-03-24T03:03:42.456259",
     "exception": false,
     "start_time": "2023-03-24T03:03:42.415637",
     "status": "completed"
    },
    "tags": []
   },
   "outputs": [
    {
     "data": {
      "text/plain": [
       "array([9.99727271e-01, 9.98755610e-01, 1.99855271e-03, 9.99860044e-01,\n",
       "       9.93062205e-01, 1.05056019e-03, 2.61192921e-03, 9.99977741e-01,\n",
       "       3.51373968e-04, 2.74808751e-03, 1.46351143e-03, 9.99898953e-01,\n",
       "       9.66552847e-01, 1.03322690e-02, 5.22268632e-04, 3.64728292e-03,\n",
       "       9.99343701e-01, 9.24809571e-03, 1.61241809e-03, 1.56221207e-03,\n",
       "       9.96256092e-01, 9.97504132e-01, 1.76771793e-04, 2.83280140e-03,\n",
       "       9.99952130e-01, 2.30153091e-03, 9.99066850e-01, 3.65350567e-03,\n",
       "       9.99328627e-01, 9.93747797e-01, 1.27388287e-02, 1.54986813e-02,\n",
       "       7.43231672e-04, 9.99971906e-01, 9.99920507e-01, 9.70054899e-04,\n",
       "       9.99178162e-01, 9.99172135e-01, 9.99762851e-01, 9.99915637e-01,\n",
       "       9.99779322e-01, 1.52311497e-03, 9.99653846e-01, 4.88478001e-03,\n",
       "       2.81525038e-03, 9.99213449e-01, 9.99831337e-01, 1.55645508e-03,\n",
       "       2.46051558e-02, 2.49294216e-04, 9.99314765e-01, 1.02600625e-03,\n",
       "       8.60790927e-03, 9.99128101e-01, 1.84260696e-03, 5.39255238e-04,\n",
       "       3.21653262e-04, 1.63113388e-02, 1.00098608e-03, 2.47461081e-04,\n",
       "       6.66506375e-04, 7.72096226e-03, 4.82006678e-03, 9.98252155e-01,\n",
       "       4.80364747e-03, 2.96939093e-04, 9.99994728e-01, 9.77132609e-03,\n",
       "       5.65812077e-03, 9.97338305e-01, 9.99137298e-01, 2.26663948e-03,\n",
       "       9.91501259e-01, 2.62804678e-04, 9.95820577e-04, 4.03996863e-04,\n",
       "       9.93958776e-01, 2.60740312e-03, 6.12619454e-03, 4.68655293e-04,\n",
       "       3.43682168e-03, 6.42051317e-04, 9.98762722e-01, 9.99142380e-01,\n",
       "       9.93320043e-01, 1.20872464e-02, 9.98792289e-01, 1.18382045e-02,\n",
       "       1.61031769e-02, 8.07599237e-04, 7.24399759e-04, 9.97482080e-01,\n",
       "       9.92076843e-01, 9.99288177e-01, 6.53056570e-04, 9.99947739e-01,\n",
       "       9.99237575e-01, 9.77952814e-01, 1.10051128e-03, 8.19530071e-03,\n",
       "       1.44339658e-03, 9.99194745e-01, 3.63716309e-03, 2.30551838e-04,\n",
       "       8.68759701e-04, 9.99923694e-01, 5.53414053e-02, 8.32939671e-04,\n",
       "       2.10003338e-03, 9.99928967e-01, 9.99578191e-01, 9.98617520e-01,\n",
       "       9.69933449e-03, 9.92372703e-01, 3.80245619e-03, 9.99994457e-01,\n",
       "       7.97836363e-04, 9.99939210e-01, 9.81357112e-01, 9.92211439e-01,\n",
       "       5.82100995e-03, 9.99952998e-01, 9.99618482e-01, 1.24889744e-03,\n",
       "       1.12441295e-02, 9.99689263e-01, 9.91216426e-01, 9.89984697e-01,\n",
       "       2.79034966e-03, 9.98763213e-01, 1.73711328e-03, 4.17040878e-04,\n",
       "       1.24379379e-02, 9.99991994e-01, 9.99991549e-01, 9.99934433e-01,\n",
       "       8.15656469e-04, 2.88630157e-03, 2.19787789e-03, 9.94691479e-01,\n",
       "       9.99860755e-01, 9.97344609e-01, 9.99532021e-01, 9.35214763e-01,\n",
       "       6.23536621e-04, 2.06375222e-03, 9.97819727e-01, 9.99601467e-01,\n",
       "       3.19958150e-03, 9.99986448e-01, 9.98009825e-01, 9.96104241e-01,\n",
       "       1.90938783e-03, 9.99761778e-01, 4.03835098e-03, 5.49316396e-04,\n",
       "       9.99949965e-01, 1.10001635e-03, 9.89758299e-01, 9.99040524e-01,\n",
       "       9.99986608e-01, 3.26367082e-03, 9.98802914e-01, 2.62444859e-04,\n",
       "       9.99862281e-01, 9.30243946e-03, 9.90675772e-01, 9.97384592e-01,\n",
       "       9.99835158e-01, 2.09564335e-04, 9.99987644e-01, 1.03760887e-03,\n",
       "       9.99710360e-01, 3.00049889e-03, 2.35730240e-03, 2.05078022e-03,\n",
       "       9.99782356e-01, 9.98949348e-01, 9.99922597e-01, 9.99822095e-01,\n",
       "       2.82859786e-04, 9.99192875e-01, 2.63620357e-04, 2.81504931e-02,\n",
       "       9.99383454e-01, 9.97514631e-01, 9.99566063e-01, 2.95455224e-03,\n",
       "       9.99815021e-01, 3.13760477e-02, 9.99729830e-01, 3.60759464e-03,\n",
       "       7.24330702e-04, 9.99958179e-01, 1.77282541e-03, 7.68313296e-04,\n",
       "       1.56453353e-02, 2.42824458e-04, 9.99740469e-01, 9.99355977e-01,\n",
       "       6.00455391e-04, 2.49071408e-04, 1.93468835e-03, 4.98723581e-03,\n",
       "       9.97035817e-01, 9.99903603e-01, 1.27658197e-03, 3.70448942e-03,\n",
       "       8.04714908e-03, 1.47007917e-02, 1.73083446e-03, 9.99938635e-01,\n",
       "       4.07990277e-03, 4.42872085e-03, 4.09062682e-02, 9.99902337e-01,\n",
       "       9.99655367e-01, 5.30842361e-04, 2.59193792e-02, 9.96768463e-01,\n",
       "       2.40843555e-02, 9.99970816e-01, 1.42219654e-03, 2.43451394e-03,\n",
       "       1.42970977e-03, 9.97235744e-01, 9.35427574e-04, 1.08654541e-03,\n",
       "       3.11461801e-04, 9.99945426e-01, 9.99768017e-01, 1.66032490e-02,\n",
       "       7.19853205e-03, 9.98821573e-01, 8.46635738e-04, 9.96419399e-01,\n",
       "       2.27187644e-03, 9.99526687e-01, 9.99712971e-01, 1.48759488e-03,\n",
       "       9.99852924e-01, 2.13469521e-03, 9.99265733e-01, 9.98864207e-01,\n",
       "       9.99047013e-01, 9.97951093e-01, 9.99911534e-01, 1.08991611e-03,\n",
       "       1.74963569e-04, 9.89724842e-01, 9.99981826e-01, 7.87676279e-04,\n",
       "       5.80949037e-03, 9.99949676e-01, 1.10694590e-03, 1.02613557e-02,\n",
       "       3.07940209e-04, 3.68743623e-04, 9.99783867e-01, 9.99763918e-01,\n",
       "       9.99918278e-01, 2.03030193e-04, 9.99936826e-01, 9.97728943e-04,\n",
       "       1.69789992e-04, 2.38246786e-03, 9.99957245e-01, 9.99173322e-01,\n",
       "       9.99091593e-01, 2.17366797e-04, 3.07427522e-04, 9.89223167e-01,\n",
       "       3.16706327e-03, 9.99984821e-01, 9.99980047e-01, 9.98727538e-01,\n",
       "       9.99975003e-01, 2.57841644e-03, 9.99787815e-01, 5.33708070e-03,\n",
       "       3.23785696e-04, 9.99874702e-01, 9.99867902e-01, 9.11355827e-04,\n",
       "       9.98642194e-01, 6.11514239e-03, 6.60707961e-04, 9.98245836e-01,\n",
       "       1.84223139e-03, 2.01827988e-03, 6.80138898e-04, 6.12969672e-03,\n",
       "       6.15091625e-04, 8.09449139e-03, 1.15516904e-02, 9.99623548e-01,\n",
       "       4.79312519e-04])"
      ]
     },
     "execution_count": 33,
     "metadata": {},
     "output_type": "execute_result"
    }
   ],
   "source": [
    "log_reg.predict_proba(x_test)[:,0]"
   ]
  },
  {
   "cell_type": "code",
   "execution_count": 34,
   "id": "5dce1577",
   "metadata": {
    "execution": {
     "iopub.execute_input": "2023-03-24T03:03:42.507942Z",
     "iopub.status.busy": "2023-03-24T03:03:42.507098Z",
     "iopub.status.idle": "2023-03-24T03:03:42.518861Z",
     "shell.execute_reply": "2023-03-24T03:03:42.517407Z"
    },
    "papermill": {
     "duration": 0.040633,
     "end_time": "2023-03-24T03:03:42.521486",
     "exception": false,
     "start_time": "2023-03-24T03:03:42.480853",
     "status": "completed"
    },
    "tags": []
   },
   "outputs": [
    {
     "data": {
      "text/plain": [
       "array([2.72728850e-04, 1.24439014e-03, 9.98001447e-01, 1.39955858e-04,\n",
       "       6.93779479e-03, 9.98949440e-01, 9.97388071e-01, 2.22593503e-05,\n",
       "       9.99648626e-01, 9.97251912e-01, 9.98536489e-01, 1.01047401e-04,\n",
       "       3.34471528e-02, 9.89667731e-01, 9.99477731e-01, 9.96352717e-01,\n",
       "       6.56299183e-04, 9.90751904e-01, 9.98387582e-01, 9.98437788e-01,\n",
       "       3.74390824e-03, 2.49586831e-03, 9.99823228e-01, 9.97167199e-01,\n",
       "       4.78701437e-05, 9.97698469e-01, 9.33149816e-04, 9.96346494e-01,\n",
       "       6.71373095e-04, 6.25220262e-03, 9.87261171e-01, 9.84501319e-01,\n",
       "       9.99256768e-01, 2.80942257e-05, 7.94929905e-05, 9.99029945e-01,\n",
       "       8.21837751e-04, 8.27865250e-04, 2.37149122e-04, 8.43633607e-05,\n",
       "       2.20678425e-04, 9.98476885e-01, 3.46153912e-04, 9.95115220e-01,\n",
       "       9.97184750e-01, 7.86551052e-04, 1.68663264e-04, 9.98443545e-01,\n",
       "       9.75394844e-01, 9.99750706e-01, 6.85234768e-04, 9.98973994e-01,\n",
       "       9.91392091e-01, 8.71898589e-04, 9.98157393e-01, 9.99460745e-01,\n",
       "       9.99678347e-01, 9.83688661e-01, 9.98999014e-01, 9.99752539e-01,\n",
       "       9.99333494e-01, 9.92279038e-01, 9.95179933e-01, 1.74784487e-03,\n",
       "       9.95196353e-01, 9.99703061e-01, 5.27173879e-06, 9.90228674e-01,\n",
       "       9.94341879e-01, 2.66169495e-03, 8.62701941e-04, 9.97733361e-01,\n",
       "       8.49874102e-03, 9.99737195e-01, 9.99004179e-01, 9.99596003e-01,\n",
       "       6.04122395e-03, 9.97392597e-01, 9.93873805e-01, 9.99531345e-01,\n",
       "       9.96563178e-01, 9.99357949e-01, 1.23727766e-03, 8.57620028e-04,\n",
       "       6.67995721e-03, 9.87912754e-01, 1.20771140e-03, 9.88161795e-01,\n",
       "       9.83896823e-01, 9.99192401e-01, 9.99275600e-01, 2.51792027e-03,\n",
       "       7.92315725e-03, 7.11823027e-04, 9.99346943e-01, 5.22613924e-05,\n",
       "       7.62424910e-04, 2.20471856e-02, 9.98899489e-01, 9.91804699e-01,\n",
       "       9.98556603e-01, 8.05255090e-04, 9.96362837e-01, 9.99769448e-01,\n",
       "       9.99131240e-01, 7.63062953e-05, 9.44658595e-01, 9.99167060e-01,\n",
       "       9.97899967e-01, 7.10327287e-05, 4.21809244e-04, 1.38247967e-03,\n",
       "       9.90300666e-01, 7.62729715e-03, 9.96197544e-01, 5.54268108e-06,\n",
       "       9.99202164e-01, 6.07897752e-05, 1.86428881e-02, 7.78856134e-03,\n",
       "       9.94178990e-01, 4.70021881e-05, 3.81518026e-04, 9.98751103e-01,\n",
       "       9.88755871e-01, 3.10737189e-04, 8.78357436e-03, 1.00153035e-02,\n",
       "       9.97209650e-01, 1.23678672e-03, 9.98262887e-01, 9.99582959e-01,\n",
       "       9.87562062e-01, 8.00596585e-06, 8.45081140e-06, 6.55672270e-05,\n",
       "       9.99184344e-01, 9.97113698e-01, 9.97802122e-01, 5.30852097e-03,\n",
       "       1.39244972e-04, 2.65539088e-03, 4.67979203e-04, 6.47852369e-02,\n",
       "       9.99376463e-01, 9.97936248e-01, 2.18027276e-03, 3.98533495e-04,\n",
       "       9.96800419e-01, 1.35521637e-05, 1.99017486e-03, 3.89575859e-03,\n",
       "       9.98090612e-01, 2.38222393e-04, 9.95961649e-01, 9.99450684e-01,\n",
       "       5.00350296e-05, 9.98899984e-01, 1.02417012e-02, 9.59476297e-04,\n",
       "       1.33919082e-05, 9.96736329e-01, 1.19708619e-03, 9.99737555e-01,\n",
       "       1.37718592e-04, 9.90697561e-01, 9.32422803e-03, 2.61540775e-03,\n",
       "       1.64842258e-04, 9.99790436e-01, 1.23563491e-05, 9.98962391e-01,\n",
       "       2.89639750e-04, 9.96999501e-01, 9.97642698e-01, 9.97949220e-01,\n",
       "       2.17643620e-04, 1.05065183e-03, 7.74034603e-05, 1.77904976e-04,\n",
       "       9.99717140e-01, 8.07124857e-04, 9.99736380e-01, 9.71849507e-01,\n",
       "       6.16546194e-04, 2.48536871e-03, 4.33936768e-04, 9.97045448e-01,\n",
       "       1.84978612e-04, 9.68623952e-01, 2.70170000e-04, 9.96392405e-01,\n",
       "       9.99275669e-01, 4.18210597e-05, 9.98227175e-01, 9.99231687e-01,\n",
       "       9.84354665e-01, 9.99757176e-01, 2.59530689e-04, 6.44022590e-04,\n",
       "       9.99399545e-01, 9.99750929e-01, 9.98065312e-01, 9.95012764e-01,\n",
       "       2.96418293e-03, 9.63972573e-05, 9.98723418e-01, 9.96295511e-01,\n",
       "       9.91952851e-01, 9.85299208e-01, 9.98269166e-01, 6.13646731e-05,\n",
       "       9.95920097e-01, 9.95571279e-01, 9.59093732e-01, 9.76630957e-05,\n",
       "       3.44632519e-04, 9.99469158e-01, 9.74080621e-01, 3.23153722e-03,\n",
       "       9.75915645e-01, 2.91843514e-05, 9.98577803e-01, 9.97565486e-01,\n",
       "       9.98570290e-01, 2.76425626e-03, 9.99064572e-01, 9.98913455e-01,\n",
       "       9.99688538e-01, 5.45736542e-05, 2.31982934e-04, 9.83396751e-01,\n",
       "       9.92801468e-01, 1.17842709e-03, 9.99153364e-01, 3.58060106e-03,\n",
       "       9.97728124e-01, 4.73312795e-04, 2.87028899e-04, 9.98512405e-01,\n",
       "       1.47076125e-04, 9.97865305e-01, 7.34267043e-04, 1.13579268e-03,\n",
       "       9.52986805e-04, 2.04890690e-03, 8.84659618e-05, 9.98910084e-01,\n",
       "       9.99825036e-01, 1.02751578e-02, 1.81744679e-05, 9.99212324e-01,\n",
       "       9.94190510e-01, 5.03244179e-05, 9.98893054e-01, 9.89738644e-01,\n",
       "       9.99692060e-01, 9.99631256e-01, 2.16132635e-04, 2.36082269e-04,\n",
       "       8.17215905e-05, 9.99796970e-01, 6.31738790e-05, 9.99002271e-01,\n",
       "       9.99830210e-01, 9.97617532e-01, 4.27548909e-05, 8.26677905e-04,\n",
       "       9.08407117e-04, 9.99782633e-01, 9.99692572e-01, 1.07768335e-02,\n",
       "       9.96832937e-01, 1.51794843e-05, 1.99525438e-05, 1.27246203e-03,\n",
       "       2.49974773e-05, 9.97421584e-01, 2.12185049e-04, 9.94662919e-01,\n",
       "       9.99676214e-01, 1.25297903e-04, 1.32097559e-04, 9.99088644e-01,\n",
       "       1.35780570e-03, 9.93884858e-01, 9.99339292e-01, 1.75416419e-03,\n",
       "       9.98157769e-01, 9.97981720e-01, 9.99319861e-01, 9.93870303e-01,\n",
       "       9.99384908e-01, 9.91905509e-01, 9.88448310e-01, 3.76451685e-04,\n",
       "       9.99520687e-01])"
      ]
     },
     "execution_count": 34,
     "metadata": {},
     "output_type": "execute_result"
    }
   ],
   "source": [
    "log_reg.predict_proba(x_test)[:,1]"
   ]
  },
  {
   "cell_type": "markdown",
   "id": "41185450",
   "metadata": {
    "papermill": {
     "duration": 0.026041,
     "end_time": "2023-03-24T03:03:42.572509",
     "exception": false,
     "start_time": "2023-03-24T03:03:42.546468",
     "status": "completed"
    },
    "tags": []
   },
   "source": [
    "> ## Check accuracy score"
   ]
  },
  {
   "cell_type": "markdown",
   "id": "cf72878a",
   "metadata": {
    "papermill": {
     "duration": 0.025207,
     "end_time": "2023-03-24T03:03:42.623429",
     "exception": false,
     "start_time": "2023-03-24T03:03:42.598222",
     "status": "completed"
    },
    "tags": []
   },
   "source": [
    "A confusion matrix is a tool for summarizing the performance of a classification algorithm. A confusion matrix will give us a clear picture of classification model performance and the types of errors produced by the model. It gives us a summary of correct and incorrect predictions broken down by each category. The summary is represented in a tabular form.\n",
    "\n",
    "Four types of outcomes are possible while evaluating a classification model performance. These four outcomes are described below:-\n",
    "\n",
    "True Positives (TP) – True Positives occur when we predict an observation belongs to a certain class and the observation actually belongs to that class.\n",
    "\n",
    "True Negatives (TN) – True Negatives occur when we predict an observation does not belong to a certain class and the observation actually does not belong to that class.\n",
    "\n",
    "False Positives (FP) – False Positives occur when we predict an observation belongs to a certain class but the observation actually does not belong to that class. This type of error is called Type I error.\n",
    "\n",
    "False Negatives (FN) – False Negatives occur when we predict an observation does not belong to a certain class but the observation actually belongs to that class. This is a very serious error and it is called Type II error.\n",
    "\n",
    "These four outcomes are summarized in a confusion matrix given below."
   ]
  },
  {
   "cell_type": "code",
   "execution_count": 35,
   "id": "5951f5f5",
   "metadata": {
    "execution": {
     "iopub.execute_input": "2023-03-24T03:03:42.676368Z",
     "iopub.status.busy": "2023-03-24T03:03:42.675525Z",
     "iopub.status.idle": "2023-03-24T03:03:42.683718Z",
     "shell.execute_reply": "2023-03-24T03:03:42.682632Z"
    },
    "papermill": {
     "duration": 0.037087,
     "end_time": "2023-03-24T03:03:42.686286",
     "exception": false,
     "start_time": "2023-03-24T03:03:42.649199",
     "status": "completed"
    },
    "tags": []
   },
   "outputs": [
    {
     "data": {
      "text/plain": [
       "0.9966329966329966"
      ]
     },
     "execution_count": 35,
     "metadata": {},
     "output_type": "execute_result"
    }
   ],
   "source": [
    "from sklearn.metrics import accuracy_score\n",
    "accuracy_score(y_test, y_pred)"
   ]
  },
  {
   "cell_type": "code",
   "execution_count": 36,
   "id": "4b8b17e4",
   "metadata": {
    "execution": {
     "iopub.execute_input": "2023-03-24T03:03:42.739916Z",
     "iopub.status.busy": "2023-03-24T03:03:42.739046Z",
     "iopub.status.idle": "2023-03-24T03:03:42.750701Z",
     "shell.execute_reply": "2023-03-24T03:03:42.749422Z"
    },
    "papermill": {
     "duration": 0.041757,
     "end_time": "2023-03-24T03:03:42.753330",
     "exception": false,
     "start_time": "2023-03-24T03:03:42.711573",
     "status": "completed"
    },
    "tags": []
   },
   "outputs": [
    {
     "data": {
      "text/plain": [
       "array([[136,   0],\n",
       "       [  1, 160]])"
      ]
     },
     "execution_count": 36,
     "metadata": {},
     "output_type": "execute_result"
    }
   ],
   "source": [
    "from sklearn.metrics import confusion_matrix\n",
    "confusion_matrix(y_test, y_pred)"
   ]
  },
  {
   "cell_type": "code",
   "execution_count": 37,
   "id": "15bea273",
   "metadata": {
    "execution": {
     "iopub.execute_input": "2023-03-24T03:03:42.805538Z",
     "iopub.status.busy": "2023-03-24T03:03:42.804828Z",
     "iopub.status.idle": "2023-03-24T03:03:42.813361Z",
     "shell.execute_reply": "2023-03-24T03:03:42.811840Z"
    },
    "papermill": {
     "duration": 0.037711,
     "end_time": "2023-03-24T03:03:42.815868",
     "exception": false,
     "start_time": "2023-03-24T03:03:42.778157",
     "status": "completed"
    },
    "tags": []
   },
   "outputs": [
    {
     "name": "stdout",
     "output_type": "stream",
     "text": [
      "Training set score: 1.0000\n",
      "Test set score: 0.9966\n"
     ]
    }
   ],
   "source": [
    "print('Training set score: {:.4f}'.format(log_reg.score(x_train, y_train)))\n",
    "print('Test set score: {:.4f}'.format(log_reg.score(x_test, y_test)))"
   ]
  },
  {
   "cell_type": "markdown",
   "id": "2f0b23a3",
   "metadata": {
    "papermill": {
     "duration": 0.025099,
     "end_time": "2023-03-24T03:03:42.866179",
     "exception": false,
     "start_time": "2023-03-24T03:03:42.841080",
     "status": "completed"
    },
    "tags": []
   },
   "source": [
    "two values are quite comparable. So, there is no question of overfitting."
   ]
  },
  {
   "cell_type": "code",
   "execution_count": 38,
   "id": "d7a50bdf",
   "metadata": {
    "execution": {
     "iopub.execute_input": "2023-03-24T03:03:42.921746Z",
     "iopub.status.busy": "2023-03-24T03:03:42.920821Z",
     "iopub.status.idle": "2023-03-24T03:03:42.927420Z",
     "shell.execute_reply": "2023-03-24T03:03:42.925997Z"
    },
    "papermill": {
     "duration": 0.037773,
     "end_time": "2023-03-24T03:03:42.930283",
     "exception": false,
     "start_time": "2023-03-24T03:03:42.892510",
     "status": "completed"
    },
    "tags": []
   },
   "outputs": [],
   "source": [
    "y_test = pd.DataFrame(y_test)"
   ]
  },
  {
   "cell_type": "code",
   "execution_count": 39,
   "id": "07a3e25b",
   "metadata": {
    "execution": {
     "iopub.execute_input": "2023-03-24T03:03:42.983918Z",
     "iopub.status.busy": "2023-03-24T03:03:42.983207Z",
     "iopub.status.idle": "2023-03-24T03:03:42.995843Z",
     "shell.execute_reply": "2023-03-24T03:03:42.994560Z"
    },
    "papermill": {
     "duration": 0.04329,
     "end_time": "2023-03-24T03:03:42.998638",
     "exception": false,
     "start_time": "2023-03-24T03:03:42.955348",
     "status": "completed"
    },
    "tags": []
   },
   "outputs": [
    {
     "data": {
      "text/plain": [
       " 1    161\n",
       "-1    136\n",
       "dtype: int64"
      ]
     },
     "execution_count": 39,
     "metadata": {},
     "output_type": "execute_result"
    }
   ],
   "source": [
    "y_test.value_counts()"
   ]
  },
  {
   "cell_type": "code",
   "execution_count": 40,
   "id": "27606c6f",
   "metadata": {
    "execution": {
     "iopub.execute_input": "2023-03-24T03:03:43.056528Z",
     "iopub.status.busy": "2023-03-24T03:03:43.055643Z",
     "iopub.status.idle": "2023-03-24T03:03:43.072179Z",
     "shell.execute_reply": "2023-03-24T03:03:43.070710Z"
    },
    "papermill": {
     "duration": 0.050289,
     "end_time": "2023-03-24T03:03:43.075035",
     "exception": false,
     "start_time": "2023-03-24T03:03:43.024746",
     "status": "completed"
    },
    "tags": []
   },
   "outputs": [
    {
     "data": {
      "text/html": [
       "<div>\n",
       "<style scoped>\n",
       "    .dataframe tbody tr th:only-of-type {\n",
       "        vertical-align: middle;\n",
       "    }\n",
       "\n",
       "    .dataframe tbody tr th {\n",
       "        vertical-align: top;\n",
       "    }\n",
       "\n",
       "    .dataframe thead th {\n",
       "        text-align: right;\n",
       "    }\n",
       "</style>\n",
       "<table border=\"1\" class=\"dataframe\">\n",
       "  <thead>\n",
       "    <tr style=\"text-align: right;\">\n",
       "      <th></th>\n",
       "      <th>0</th>\n",
       "    </tr>\n",
       "  </thead>\n",
       "  <tbody>\n",
       "    <tr>\n",
       "      <th>count</th>\n",
       "      <td>297.000000</td>\n",
       "    </tr>\n",
       "    <tr>\n",
       "      <th>mean</th>\n",
       "      <td>0.084175</td>\n",
       "    </tr>\n",
       "    <tr>\n",
       "      <th>std</th>\n",
       "      <td>0.998133</td>\n",
       "    </tr>\n",
       "    <tr>\n",
       "      <th>min</th>\n",
       "      <td>-1.000000</td>\n",
       "    </tr>\n",
       "    <tr>\n",
       "      <th>25%</th>\n",
       "      <td>-1.000000</td>\n",
       "    </tr>\n",
       "    <tr>\n",
       "      <th>50%</th>\n",
       "      <td>1.000000</td>\n",
       "    </tr>\n",
       "    <tr>\n",
       "      <th>75%</th>\n",
       "      <td>1.000000</td>\n",
       "    </tr>\n",
       "    <tr>\n",
       "      <th>max</th>\n",
       "      <td>1.000000</td>\n",
       "    </tr>\n",
       "  </tbody>\n",
       "</table>\n",
       "</div>"
      ],
      "text/plain": [
       "                0\n",
       "count  297.000000\n",
       "mean     0.084175\n",
       "std      0.998133\n",
       "min     -1.000000\n",
       "25%     -1.000000\n",
       "50%      1.000000\n",
       "75%      1.000000\n",
       "max      1.000000"
      ]
     },
     "execution_count": 40,
     "metadata": {},
     "output_type": "execute_result"
    }
   ],
   "source": [
    "y_test.describe()"
   ]
  },
  {
   "cell_type": "markdown",
   "id": "36f4d1fd",
   "metadata": {
    "papermill": {
     "duration": 0.025879,
     "end_time": "2023-03-24T03:03:43.126286",
     "exception": false,
     "start_time": "2023-03-24T03:03:43.100407",
     "status": "completed"
    },
    "tags": []
   },
   "source": [
    "> ## Check null accuracy score\n"
   ]
  },
  {
   "cell_type": "code",
   "execution_count": 41,
   "id": "84059998",
   "metadata": {
    "execution": {
     "iopub.execute_input": "2023-03-24T03:03:43.179671Z",
     "iopub.status.busy": "2023-03-24T03:03:43.178981Z",
     "iopub.status.idle": "2023-03-24T03:03:43.185415Z",
     "shell.execute_reply": "2023-03-24T03:03:43.184137Z"
    },
    "papermill": {
     "duration": 0.036772,
     "end_time": "2023-03-24T03:03:43.188387",
     "exception": false,
     "start_time": "2023-03-24T03:03:43.151615",
     "status": "completed"
    },
    "tags": []
   },
   "outputs": [
    {
     "name": "stdout",
     "output_type": "stream",
     "text": [
      "0.7800311654979605\n"
     ]
    }
   ],
   "source": [
    "null_accuracy = (34039/(34039+9599))\n",
    "print(null_accuracy)"
   ]
  },
  {
   "cell_type": "markdown",
   "id": "ba0a2f67",
   "metadata": {
    "papermill": {
     "duration": 0.026451,
     "end_time": "2023-03-24T03:03:43.240404",
     "exception": false,
     "start_time": "2023-03-24T03:03:43.213953",
     "status": "completed"
    },
    "tags": []
   },
   "source": [
    "> ## Classification Report"
   ]
  },
  {
   "cell_type": "code",
   "execution_count": 42,
   "id": "4eb89c67",
   "metadata": {
    "execution": {
     "iopub.execute_input": "2023-03-24T03:03:43.293726Z",
     "iopub.status.busy": "2023-03-24T03:03:43.292671Z",
     "iopub.status.idle": "2023-03-24T03:03:43.303872Z",
     "shell.execute_reply": "2023-03-24T03:03:43.302129Z"
    },
    "papermill": {
     "duration": 0.041837,
     "end_time": "2023-03-24T03:03:43.307589",
     "exception": false,
     "start_time": "2023-03-24T03:03:43.265752",
     "status": "completed"
    },
    "tags": []
   },
   "outputs": [
    {
     "name": "stdout",
     "output_type": "stream",
     "text": [
      "              precision    recall  f1-score   support\n",
      "\n",
      "          -1       0.99      1.00      1.00       136\n",
      "           1       1.00      0.99      1.00       161\n",
      "\n",
      "    accuracy                           1.00       297\n",
      "   macro avg       1.00      1.00      1.00       297\n",
      "weighted avg       1.00      1.00      1.00       297\n",
      "\n"
     ]
    }
   ],
   "source": [
    "from sklearn.metrics import classification_report\n",
    "print(classification_report(y_test, y_pred))"
   ]
  },
  {
   "cell_type": "markdown",
   "id": "6bd5d749",
   "metadata": {
    "papermill": {
     "duration": 0.026716,
     "end_time": "2023-03-24T03:03:43.360312",
     "exception": false,
     "start_time": "2023-03-24T03:03:43.333596",
     "status": "completed"
    },
    "tags": []
   },
   "source": [
    "> ## Confusion Matrix"
   ]
  },
  {
   "cell_type": "code",
   "execution_count": 43,
   "id": "be0884dd",
   "metadata": {
    "execution": {
     "iopub.execute_input": "2023-03-24T03:03:43.415932Z",
     "iopub.status.busy": "2023-03-24T03:03:43.415029Z",
     "iopub.status.idle": "2023-03-24T03:03:43.717324Z",
     "shell.execute_reply": "2023-03-24T03:03:43.716037Z"
    },
    "papermill": {
     "duration": 0.333078,
     "end_time": "2023-03-24T03:03:43.720644",
     "exception": false,
     "start_time": "2023-03-24T03:03:43.387566",
     "status": "completed"
    },
    "tags": []
   },
   "outputs": [
    {
     "data": {
      "text/plain": [
       "<AxesSubplot:>"
      ]
     },
     "execution_count": 43,
     "metadata": {},
     "output_type": "execute_result"
    },
    {
     "data": {
      "image/png": "[encoded data removed]",
      "text/plain": [
       "<Figure size 640x480 with 2 Axes>"
      ]
     },
     "metadata": {},
     "output_type": "display_data"
    }
   ],
   "source": [
    "from sklearn.metrics import confusion_matrix\n",
    "cm = confusion_matrix(y_test, y_pred)\n",
    "cm\n",
    "cm_matrix = pd.DataFrame(data=cm, columns=['Actual Positive:1', 'Actual Negative:0'], \n",
    "                                 index=['Predict Positive:1', 'Predict Negative:0'])\n",
    "\n",
    "sns.heatmap(cm_matrix, annot=True, fmt='d', cmap='YlGnBu')"
   ]
  },
  {
   "cell_type": "markdown",
   "id": "01704690",
   "metadata": {
    "papermill": {
     "duration": 0.026317,
     "end_time": "2023-03-24T03:03:43.774199",
     "exception": false,
     "start_time": "2023-03-24T03:03:43.747882",
     "status": "completed"
    },
    "tags": []
   },
   "source": [
    "> ## Classification accuracy"
   ]
  },
  {
   "cell_type": "code",
   "execution_count": 44,
   "id": "e7fd9b47",
   "metadata": {
    "execution": {
     "iopub.execute_input": "2023-03-24T03:03:43.829285Z",
     "iopub.status.busy": "2023-03-24T03:03:43.828797Z",
     "iopub.status.idle": "2023-03-24T03:03:43.834656Z",
     "shell.execute_reply": "2023-03-24T03:03:43.833524Z"
    },
    "papermill": {
     "duration": 0.036788,
     "end_time": "2023-03-24T03:03:43.837676",
     "exception": false,
     "start_time": "2023-03-24T03:03:43.800888",
     "status": "completed"
    },
    "tags": []
   },
   "outputs": [],
   "source": [
    "TP = cm[0,0]\n",
    "TN = cm[1,1]\n",
    "FP = cm[0,1]\n",
    "FN = cm[1,0]"
   ]
  },
  {
   "cell_type": "code",
   "execution_count": 45,
   "id": "99b76080",
   "metadata": {
    "execution": {
     "iopub.execute_input": "2023-03-24T03:03:43.893573Z",
     "iopub.status.busy": "2023-03-24T03:03:43.893187Z",
     "iopub.status.idle": "2023-03-24T03:03:43.900600Z",
     "shell.execute_reply": "2023-03-24T03:03:43.899325Z"
    },
    "papermill": {
     "duration": 0.038682,
     "end_time": "2023-03-24T03:03:43.902982",
     "exception": false,
     "start_time": "2023-03-24T03:03:43.864300",
     "status": "completed"
    },
    "tags": []
   },
   "outputs": [
    {
     "data": {
      "text/plain": [
       "0.9966329966329966"
      ]
     },
     "execution_count": 45,
     "metadata": {},
     "output_type": "execute_result"
    }
   ],
   "source": [
    "classification_accuracy = (TP + TN) / float(TP + TN + FP + FN)\n",
    "classification_accuracy"
   ]
  },
  {
   "cell_type": "markdown",
   "id": "18d540b1",
   "metadata": {
    "papermill": {
     "duration": 0.025926,
     "end_time": "2023-03-24T03:03:43.955144",
     "exception": false,
     "start_time": "2023-03-24T03:03:43.929218",
     "status": "completed"
    },
    "tags": []
   },
   "source": [
    "> ## Classification error"
   ]
  },
  {
   "cell_type": "code",
   "execution_count": 46,
   "id": "505f2568",
   "metadata": {
    "execution": {
     "iopub.execute_input": "2023-03-24T03:03:44.011688Z",
     "iopub.status.busy": "2023-03-24T03:03:44.011246Z",
     "iopub.status.idle": "2023-03-24T03:03:44.018202Z",
     "shell.execute_reply": "2023-03-24T03:03:44.017232Z"
    },
    "papermill": {
     "duration": 0.038294,
     "end_time": "2023-03-24T03:03:44.020419",
     "exception": false,
     "start_time": "2023-03-24T03:03:43.982125",
     "status": "completed"
    },
    "tags": []
   },
   "outputs": [
    {
     "data": {
      "text/plain": [
       "0.003367003367003367"
      ]
     },
     "execution_count": 46,
     "metadata": {},
     "output_type": "execute_result"
    }
   ],
   "source": [
    "classification_error = (FP + FN) / float(TP + TN + FP + FN)\n",
    "classification_error"
   ]
  },
  {
   "cell_type": "markdown",
   "id": "6b8307fc",
   "metadata": {
    "papermill": {
     "duration": 0.026794,
     "end_time": "2023-03-24T03:03:44.074611",
     "exception": false,
     "start_time": "2023-03-24T03:03:44.047817",
     "status": "completed"
    },
    "tags": []
   },
   "source": [
    "> ## Precision"
   ]
  },
  {
   "cell_type": "code",
   "execution_count": 47,
   "id": "35fadde3",
   "metadata": {
    "execution": {
     "iopub.execute_input": "2023-03-24T03:03:44.132914Z",
     "iopub.status.busy": "2023-03-24T03:03:44.131789Z",
     "iopub.status.idle": "2023-03-24T03:03:44.139196Z",
     "shell.execute_reply": "2023-03-24T03:03:44.138031Z"
    },
    "papermill": {
     "duration": 0.039437,
     "end_time": "2023-03-24T03:03:44.141853",
     "exception": false,
     "start_time": "2023-03-24T03:03:44.102416",
     "status": "completed"
    },
    "tags": []
   },
   "outputs": [
    {
     "data": {
      "text/plain": [
       "1.0"
      ]
     },
     "execution_count": 47,
     "metadata": {},
     "output_type": "execute_result"
    }
   ],
   "source": [
    "precision = TP / float(TP + FP)\n",
    "precision"
   ]
  },
  {
   "cell_type": "markdown",
   "id": "68713516",
   "metadata": {
    "papermill": {
     "duration": 0.026339,
     "end_time": "2023-03-24T03:03:44.195201",
     "exception": false,
     "start_time": "2023-03-24T03:03:44.168862",
     "status": "completed"
    },
    "tags": []
   },
   "source": [
    "> ## Recall"
   ]
  },
  {
   "cell_type": "code",
   "execution_count": 48,
   "id": "a0585b8b",
   "metadata": {
    "execution": {
     "iopub.execute_input": "2023-03-24T03:03:44.252798Z",
     "iopub.status.busy": "2023-03-24T03:03:44.251179Z",
     "iopub.status.idle": "2023-03-24T03:03:44.260351Z",
     "shell.execute_reply": "2023-03-24T03:03:44.259301Z"
    },
    "papermill": {
     "duration": 0.04127,
     "end_time": "2023-03-24T03:03:44.263361",
     "exception": false,
     "start_time": "2023-03-24T03:03:44.222091",
     "status": "completed"
    },
    "tags": []
   },
   "outputs": [
    {
     "data": {
      "text/plain": [
       "0.9927007299270073"
      ]
     },
     "execution_count": 48,
     "metadata": {},
     "output_type": "execute_result"
    }
   ],
   "source": [
    "recall = TP / float(TP + FN)\n",
    "recall"
   ]
  },
  {
   "cell_type": "code",
   "execution_count": null,
   "id": "19d63317",
   "metadata": {
    "papermill": {
     "duration": 0.026839,
     "end_time": "2023-03-24T03:03:44.317747",
     "exception": false,
     "start_time": "2023-03-24T03:03:44.290908",
     "status": "completed"
    },
    "tags": []
   },
   "outputs": [],
   "source": []
  }
 ],
 "metadata": {
  "kernelspec": {
   "display_name": "Python 3",
   "language": "python",
   "name": "python3"
  },
  "language_info": {
   "codemirror_mode": {
    "name": "ipython",
    "version": 3
   },
   "file_extension": ".py",
   "mimetype": "text/x-python",
   "name": "python",
   "nbconvert_exporter": "python",
   "pygments_lexer": "ipython3",
   "version": "3.7.12"
  },
  "papermill": {
   "default_parameters": {},
   "duration": 27.303142,
   "end_time": "2023-03-24T03:03:45.268191",
   "environment_variables": {},
   "exception": null,
   "input_path": "__notebook__.ipynb",
   "output_path": "__notebook__.ipynb",
   "parameters": {},
   "start_time": "2023-03-24T03:03:17.965049",
   "version": "2.4.0"
  }
 },
 "nbformat": 4,
 "nbformat_minor": 5
}
